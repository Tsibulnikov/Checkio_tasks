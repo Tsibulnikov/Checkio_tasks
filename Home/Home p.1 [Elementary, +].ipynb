{
 "cells": [
  {
   "cell_type": "markdown",
   "metadata": {},
   "source": [
    "## Sum Numbers\n",
    "\n",
    "In a given text you need to sum the numbers. Only separated numbers should be counted. If a number is part of a word it shouldn't be counted.\n",
    "\n",
    "The text consists from numbers, spaces and english letters\n",
    "\n",
    "**Input:** A string.\n",
    "\n",
    "**Output:** An int.\n",
    "\n",
    "**Example:**\n",
    "```\n",
    "sum_numbers('hi') == 0\n",
    "sum_numbers('who is 1st here') == 0\n",
    "sum_numbers('my numbers is 2') == 2\n",
    "sum_numbers('This picture is an oil on canvas '\n",
    " 'painting by Danish artist Anna '\n",
    " 'Petersen between 1845 and 1910 year') == 3755\n",
    "sum_numbers('5 plus 6 is') == 11\n",
    "sum_numbers('') == 0\n",
    "```"
   ]
  },
  {
   "cell_type": "markdown",
   "metadata": {},
   "source": [
    "### Solution #1"
   ]
  },
  {
   "cell_type": "code",
   "execution_count": 7,
   "metadata": {},
   "outputs": [
    {
     "name": "stdout",
     "output_type": "stream",
     "text": [
      "Example:\n",
      "0\n",
      "Coding complete? Click 'Check' to earn cool rewards!\n"
     ]
    }
   ],
   "source": [
    "def sum_numbers(string:str) -> int:\n",
    "    result = 0\n",
    "    lst = string.split()\n",
    "    for val in lst:\n",
    "        if val.isdigit():\n",
    "            result+= int(val)\n",
    "    return result\n",
    "\n",
    "if __name__ == '__main__':\n",
    "    print('Example:')\n",
    "    print(sum_numbers('hi'))\n",
    "    \n",
    "    # These \"asserts\" are used for self-checking and not for an auto-testing\n",
    "    assert sum_numbers('hi') == 0\n",
    "    assert sum_numbers('who is 1st here') == 0\n",
    "    assert sum_numbers('my numbers is 2') == 2\n",
    "    assert sum_numbers('This picture is an oil on canvas '\n",
    " 'painting by Danish artist Anna '\n",
    " 'Petersen between 1845 and 1910 year') == 3755\n",
    "    assert sum_numbers('5 plus 6 is') == 11\n",
    "    assert sum_numbers('') == 0\n",
    "    print(\"Coding complete? Click 'Check' to earn cool rewards!\")"
   ]
  },
  {
   "cell_type": "markdown",
   "metadata": {},
   "source": [
    "### Solution #2"
   ]
  },
  {
   "cell_type": "code",
   "execution_count": 8,
   "metadata": {},
   "outputs": [
    {
     "name": "stdout",
     "output_type": "stream",
     "text": [
      "Example:\n",
      "0\n",
      "Coding complete? Click 'Check' to earn cool rewards!\n"
     ]
    }
   ],
   "source": [
    "def sum_numbers(text:str) -> int:\n",
    "    return sum([int(word) for word in text.split() if word.isdigit()])\n",
    "\n",
    "if __name__ == '__main__':\n",
    "    print('Example:')\n",
    "    print(sum_numbers('hi'))\n",
    "    \n",
    "    # These \"asserts\" are used for self-checking and not for an auto-testing\n",
    "    assert sum_numbers('hi') == 0\n",
    "    assert sum_numbers('who is 1st here') == 0\n",
    "    assert sum_numbers('my numbers is 2') == 2\n",
    "    assert sum_numbers('This picture is an oil on canvas '\n",
    " 'painting by Danish artist Anna '\n",
    " 'Petersen between 1845 and 1910 year') == 3755\n",
    "    assert sum_numbers('5 plus 6 is') == 11\n",
    "    assert sum_numbers('') == 0\n",
    "    print(\"Coding complete? Click 'Check' to earn cool rewards!\")"
   ]
  },
  {
   "cell_type": "markdown",
   "metadata": {},
   "source": [
    "## Bigger Price\n",
    "\n",
    "You have a table with all available goods in the store. The data is represented as a list of dicts\n",
    "\n",
    "Your mission here is to find the TOP most expensive goods. The amount we are looking for will be given as a first argument and the whole data as the second one\n",
    "\n",
    "**Input:** int and list of dicts. Each dicts has two keys \"name\" and \"price\"\n",
    "\n",
    "**Output:** the same as the second Input argument.\n",
    "\n",
    "**Example:**\n",
    "\n",
    "```\n",
    "bigger_price(2, [\n",
    "    {\"name\": \"bread\", \"price\": 100},\n",
    "    {\"name\": \"wine\", \"price\": 138},\n",
    "    {\"name\": \"meat\", \"price\": 15},\n",
    "    {\"name\": \"water\", \"price\": 1}\n",
    "]) == [\n",
    "    {\"name\": \"wine\", \"price\": 138},\n",
    "    {\"name\": \"bread\", \"price\": 100}\n",
    "]\n",
    "\n",
    "bigger_price(1, [\n",
    "    {\"name\": \"pen\", \"price\": 5},\n",
    "    {\"name\": \"whiteboard\", \"price\": 170}\n",
    "]) == [{\"name\": \"whiteboard\", \"price\": 170}]\n",
    "```"
   ]
  },
  {
   "cell_type": "markdown",
   "metadata": {},
   "source": [
    "### Solution #1"
   ]
  },
  {
   "cell_type": "code",
   "execution_count": 41,
   "metadata": {},
   "outputs": [
    {
     "name": "stdout",
     "output_type": "stream",
     "text": [
      "Example:\n",
      "[{'name': 'wine', 'price': 138}, {'name': 'bread', 'price': 100}]\n",
      "Example:\n",
      "[{'name': 'wine', 'price': 138}, {'name': 'bread', 'price': 100}]\n",
      "Done! Looks like it is fine. Go and check it\n"
     ]
    }
   ],
   "source": [
    "def bigger_price(number:int, lst:list) -> list:\n",
    "    return sorted(lst, key= lambda item: item['price'], reverse=True)[0:number]\n",
    "\n",
    "if __name__ == '__main__':\n",
    "    print('Example:')\n",
    "    print(bigger_price(2, [\n",
    "    {\"name\": \"bread\", \"price\": 100},\n",
    "    {\"name\": \"wine\", \"price\": 138},\n",
    "    {\"name\": \"meat\", \"price\": 15},\n",
    "    {\"name\": \"water\", \"price\": 1}\n",
    "]))\n",
    "    \n",
    "    from pprint import pprint\n",
    "    print('Example:')\n",
    "    pprint(bigger_price(2, [\n",
    "        {\"name\": \"bread\", \"price\": 100},\n",
    "        {\"name\": \"wine\", \"price\": 138},\n",
    "        {\"name\": \"meat\", \"price\": 15},\n",
    "        {\"name\": \"water\", \"price\": 1}\n",
    "    ]))\n",
    "\n",
    "    # These \"asserts\" using for self-checking and not for auto-testing\n",
    "    assert bigger_price(2, [\n",
    "        {\"name\": \"bread\", \"price\": 100},\n",
    "        {\"name\": \"wine\", \"price\": 138},\n",
    "        {\"name\": \"meat\", \"price\": 15},\n",
    "        {\"name\": \"water\", \"price\": 1}\n",
    "    ]) == [\n",
    "        {\"name\": \"wine\", \"price\": 138},\n",
    "        {\"name\": \"bread\", \"price\": 100}\n",
    "    ], \"First\"\n",
    "\n",
    "    assert bigger_price(1, [\n",
    "        {\"name\": \"pen\", \"price\": 5},\n",
    "        {\"name\": \"whiteboard\", \"price\": 170}\n",
    "    ]) == [{\"name\": \"whiteboard\", \"price\": 170}], \"Second\"\n",
    "\n",
    "    print('Done! Looks like it is fine. Go and check it')\n",
    "    "
   ]
  },
  {
   "cell_type": "code",
   "execution_count": 38,
   "metadata": {},
   "outputs": [
    {
     "data": {
      "text/plain": [
       "[{'name': 'wine', 'price': 138}]"
      ]
     },
     "execution_count": 38,
     "metadata": {},
     "output_type": "execute_result"
    }
   ],
   "source": [
    "sorted(lst, key= lambda item: item['price'], reverse=True)[0:1]"
   ]
  },
  {
   "cell_type": "markdown",
   "metadata": {},
   "source": [
    "### Solution #2"
   ]
  },
  {
   "cell_type": "code",
   "execution_count": 48,
   "metadata": {},
   "outputs": [
    {
     "name": "stdout",
     "output_type": "stream",
     "text": [
      "Example:\n",
      "[{'name': 'wine', 'price': 138}, {'name': 'bread', 'price': 100}]\n",
      "Example:\n",
      "[{'name': 'wine', 'price': 138}, {'name': 'bread', 'price': 100}]\n",
      "Done! Looks like it is fine. Go and check it\n"
     ]
    }
   ],
   "source": [
    "import operator, heapq, functools\n",
    "\n",
    "bigger_price = functools.partial(heapq.nlargest, key=operator.itemgetter('price'))\n",
    "\n",
    "if __name__ == '__main__':\n",
    "    print('Example:')\n",
    "    print(bigger_price(2, [\n",
    "    {\"name\": \"bread\", \"price\": 100},\n",
    "    {\"name\": \"wine\", \"price\": 138},\n",
    "    {\"name\": \"meat\", \"price\": 15},\n",
    "    {\"name\": \"water\", \"price\": 1}\n",
    "]))\n",
    "    \n",
    "    from pprint import pprint\n",
    "    print('Example:')\n",
    "    pprint(bigger_price(2, [\n",
    "        {\"name\": \"bread\", \"price\": 100},\n",
    "        {\"name\": \"wine\", \"price\": 138},\n",
    "        {\"name\": \"meat\", \"price\": 15},\n",
    "        {\"name\": \"water\", \"price\": 1}\n",
    "    ]))\n",
    "\n",
    "    # These \"asserts\" using for self-checking and not for auto-testing\n",
    "    assert bigger_price(2, [\n",
    "        {\"name\": \"bread\", \"price\": 100},\n",
    "        {\"name\": \"wine\", \"price\": 138},\n",
    "        {\"name\": \"meat\", \"price\": 15},\n",
    "        {\"name\": \"water\", \"price\": 1}\n",
    "    ]) == [\n",
    "        {\"name\": \"wine\", \"price\": 138},\n",
    "        {\"name\": \"bread\", \"price\": 100}\n",
    "    ], \"First\"\n",
    "\n",
    "    assert bigger_price(1, [\n",
    "        {\"name\": \"pen\", \"price\": 5},\n",
    "        {\"name\": \"whiteboard\", \"price\": 170}\n",
    "    ]) == [{\"name\": \"whiteboard\", \"price\": 170}], \"Second\"\n",
    "\n",
    "    print('Done! Looks like it is fine. Go and check it')"
   ]
  },
  {
   "cell_type": "code",
   "execution_count": 49,
   "metadata": {},
   "outputs": [],
   "source": [
    "# https://py.checkio.org/mission/bigger-price/publications/veky/python-3/connecting-the-dots/?ordering=most_voted&filtering=all"
   ]
  },
  {
   "cell_type": "markdown",
   "metadata": {},
   "source": [
    "## Between Markers\n",
    "\n",
    "You are given a string and two markers (the initial and final). You have to find a substring enclosed between these two markers. But there are a few important conditions:\n",
    "\n",
    "* The initial and final markers are always different.\n",
    "* If there is no initial marker, then the first character should be considered the beginning of a string.\n",
    "* If there is no final marker, then the last character should be considered the ending of a string.\n",
    "* If the initial and final markers are missing then simply return the whole string.\n",
    "* If the final marker comes before the initial marker, then return an empty string.\n",
    "**Input:** Three arguments. All of them are strings. The second and third arguments are the initial and final markers.\n",
    "\n",
    "**Output:** A string.\n",
    "\n",
    "**Example:**\n",
    "\n",
    "```\n",
    "between_markers('What is >apple<', '>', '<') == 'apple'\n",
    "between_markers('No[/b] hi', '[b]', '[/b]') == 'No'\n",
    "```\n",
    "**How it is used:** for parsing texts\n",
    "\n",
    "**Precondition:** can't be more than one final marker and can't be more than one initial. Marker can't be an empty string"
   ]
  },
  {
   "cell_type": "markdown",
   "metadata": {},
   "source": [
    "### Solution #1 \n",
    "#### *(using SequenceMatcher from difflib) *"
   ]
  },
  {
   "cell_type": "code",
   "execution_count": 134,
   "metadata": {},
   "outputs": [
    {
     "name": "stdout",
     "output_type": "stream",
     "text": [
      "Example:\n",
      "apple\n",
      "Wow, you are doing pretty good. Time to check it!\n"
     ]
    }
   ],
   "source": [
    "from difflib import SequenceMatcher\n",
    "\n",
    "def between_markers(text:str, marker1:str, marker2:str) -> str:\n",
    "    if (marker1 in text) and (marker2 in text) and (text.index(marker1) > text.index(marker2)):\n",
    "        return ''\n",
    "    else:\n",
    "        if marker1 in text:\n",
    "            string1 = text[text.index(marker1) + len(marker1):]\n",
    "        else:\n",
    "            string1 = text\n",
    "        if marker2 in text:\n",
    "            string2 = text[:text.index(marker2)]\n",
    "        else:\n",
    "            string2 = text\n",
    "        #print('str1:', string1, 'str2:', string2)\n",
    "        match = SequenceMatcher(None, string1, string2).find_longest_match(0, len(string1), 0, len(string2))\n",
    "        #print(match)\n",
    "        return (string1[match.a:match.a + match.size])\n",
    "\n",
    "if __name__ == '__main__':\n",
    "    print('Example:')\n",
    "    print(between_markers('What is >apple<', '>', '<'))\n",
    "\n",
    "    # These \"asserts\" are used for self-checking and not for testing\n",
    "    assert between_markers('What is >apple<', '>', '<') == \"apple\", \"One sym\"\n",
    "    assert between_markers(\"<head><title>My new site</title></head>\",\n",
    "                           \"<title>\", \"</title>\") == \"My new site\", \"HTML\"\n",
    "    assert between_markers('No[/b] hi', '[b]', '[/b]') == 'No', 'No opened'\n",
    "    assert between_markers('No [b]hi', '[b]', '[/b]') == 'hi', 'No close'\n",
    "    assert between_markers('No hi', '[b]', '[/b]') == 'No hi', 'No markers at all'\n",
    "    assert between_markers('No <hi>', '>', '<') == '', 'Wrong direction'\n",
    "    assert between_markers(\"No <hi> one\",\">\",\"<\") == ''\n",
    "    print('Wow, you are doing pretty good. Time to check it!')"
   ]
  },
  {
   "cell_type": "markdown",
   "metadata": {},
   "source": [
    "### Solution #2\n",
    "#### *Using slices*"
   ]
  },
  {
   "cell_type": "code",
   "execution_count": 155,
   "metadata": {},
   "outputs": [
    {
     "name": "stdout",
     "output_type": "stream",
     "text": [
      "Example:\n",
      "apple\n",
      "Wow, you are doing pretty good. Time to check it!\n"
     ]
    }
   ],
   "source": [
    "def between_markers(text:str, begin:str, end:str) -> str:\n",
    "    return text.split(begin)[-1].split(end)[0] if (text.find(begin) <= text.find(end)) or text.find(end) == -1 else ''\n",
    "    \n",
    "if __name__ == '__main__':\n",
    "    print('Example:')\n",
    "    print(between_markers('What is >apple<', '>', '<'))\n",
    "    \n",
    "        # These \"asserts\" are used for self-checking and not for testing\n",
    "    assert between_markers('What is >apple<', '>', '<') == \"apple\", \"One sym\"\n",
    "    assert between_markers(\"<head><title>My new site</title></head>\",\n",
    "                           \"<title>\", \"</title>\") == \"My new site\", \"HTML\"\n",
    "    assert between_markers('No[/b] hi', '[b]', '[/b]') == 'No', 'No opened'\n",
    "    assert between_markers('No [b]hi', '[b]', '[/b]') == 'hi', 'No close'\n",
    "    assert between_markers('No hi', '[b]', '[/b]') == 'No hi', 'No markers at all'\n",
    "    assert between_markers('No <hi>', '>', '<') == '', 'Wrong direction'\n",
    "    assert between_markers(\"No <hi> one\",\">\",\"<\") == ''\n",
    "    print('Wow, you are doing pretty good. Time to check it!')"
   ]
  },
  {
   "cell_type": "markdown",
   "metadata": {},
   "source": [
    "## Non-unique Elements\n",
    "\n",
    "You are given a non-empty list of integers (X). For this task, you should return a list consisting of only the non-unique elements in this list. To do so you will need to remove all unique elements (elements which are contained in a given list only once). When solving this task, do not change the order of the list. Example: [1, 2, 3, 1, 3] 1 and 3 non-unique elements and result will be [1, 3, 1, 3].\n",
    "\n",
    "\n",
    "\n",
    "**Input:** A list of integers.\n",
    "\n",
    "**Output:** An iterable of integers.\n",
    "\n",
    "**Example:**\n",
    "\n",
    "```\n",
    "checkio([1, 2, 3, 1, 3]) == [1, 3, 1, 3]\n",
    "checkio([1, 2, 3, 4, 5]) == []\n",
    "checkio([5, 5, 5, 5, 5]) == [5, 5, 5, 5, 5]\n",
    "checkio([10, 9, 10, 10, 9, 8]) == [10, 9, 10, 10, 9]\n",
    "checkio([2]) == []\n",
    "```\n",
    "\n",
    "**How it is used:** This mission will help you to understand how to manipulate arrays, something that is the basis for solving more complex tasks. The concept can be easily generalized for real world tasks. For example: if you need to clarify statistics by removing low frequency elements (noise).\n",
    "\n",
    "You can find out more about Python arrays in one of our articles featuring lists, tuples, array.array and numpy.array.\n",
    "\n",
    "**Precondition:**\n",
    "0 < len(data) < 1000"
   ]
  },
  {
   "cell_type": "markdown",
   "metadata": {},
   "source": [
    "### Solution #1"
   ]
  },
  {
   "cell_type": "code",
   "execution_count": 26,
   "metadata": {},
   "outputs": [
    {
     "name": "stdout",
     "output_type": "stream",
     "text": [
      "It is all good. Let's check it now\n"
     ]
    }
   ],
   "source": [
    "def checkio(lst:list) -> list:\n",
    "    return [number for number in lst if lst.count(number) > 1]\n",
    "\n",
    "if __name__ == \"__main__\":\n",
    "    #These \"asserts\" using only for self-checking and not necessary for auto-testing\n",
    "    assert list(checkio([1, 2, 3, 1, 3])) == [1, 3, 1, 3], \"1st example\"\n",
    "    assert list(checkio([1, 2, 3, 4, 5])) == [], \"2nd example\"\n",
    "    assert list(checkio([5, 5, 5, 5, 5])) == [5, 5, 5, 5, 5], \"3rd example\"\n",
    "    assert list(checkio([10, 9, 10, 10, 9, 8])) == [10, 9, 10, 10, 9], \"4th example\"\n",
    "    print(\"It is all good. Let's check it now\")"
   ]
  },
  {
   "cell_type": "markdown",
   "metadata": {},
   "source": [
    "### Solution #2"
   ]
  },
  {
   "cell_type": "code",
   "execution_count": 33,
   "metadata": {},
   "outputs": [
    {
     "name": "stdout",
     "output_type": "stream",
     "text": [
      "It is all good. Let's check it now\n"
     ]
    }
   ],
   "source": [
    "from collections import Counter\n",
    "\n",
    "def checkio(lst:list) -> list:\n",
    "    cnt_all = Counter(lst)\n",
    "    cnt_set = Counter(set(lst))\n",
    "    cnt_non_unique = cnt_all - cnt_set\n",
    "    return [i for i in lst if i in cnt_non_unique]\n",
    "\n",
    "if __name__ == \"__main__\":\n",
    "    #These \"asserts\" using only for self-checking and not necessary for auto-testing\n",
    "    assert list(checkio([1, 2, 3, 1, 3])) == [1, 3, 1, 3], \"1st example\"\n",
    "    assert list(checkio([1, 2, 3, 4, 5])) == [], \"2nd example\"\n",
    "    assert list(checkio([5, 5, 5, 5, 5])) == [5, 5, 5, 5, 5], \"3rd example\"\n",
    "    assert list(checkio([10, 9, 10, 10, 9, 8])) == [10, 9, 10, 10, 9], \"4th example\"\n",
    "    print(\"It is all good. Let's check it now\")"
   ]
  },
  {
   "cell_type": "markdown",
   "metadata": {},
   "source": [
    "## Popular worlds\n",
    "\n",
    "In this mission your task is to determine the popularity of certain words in the text.\n",
    "\n",
    "At the input of your function are given 2 arguments: the text and the array of words the popularity of which you need to determine.\n",
    "\n",
    "When solving this task pay attention to the following points:\n",
    "\n",
    "* The words should be sought in all registers. This means that if you need to find a word \"one\" then words like \"one\", \"One\", \"oNe\", \"ONE\" etc. will do.\n",
    "* The search words are always indicated in the lowercase.\n",
    "* If the word wasn’t found even once, it has to be returned in the dictionary with 0 (zero) value.\n",
    "\n",
    "**Input:** The text and the search words array.\n",
    "\n",
    "**Output:** The dictionary where the search words are the keys and values are the number of times when those words are occurring in a given text.\n",
    "\n",
    "**Example:**\n",
    "\n",
    "```\n",
    "popular_words('''\n",
    "When I was One\n",
    "I had just begun\n",
    "When I was Two\n",
    "I was nearly new\n",
    "''', ['i', 'was', 'three', 'near']) == {\n",
    "    'i': 4,\n",
    "    'was': 3,\n",
    "    'three': 0,\n",
    "    'near': 0\n",
    "}\n",
    "```\n",
    "\n",
    "**Precondition:**\n",
    "The input text will consists of English letters in uppercase and lowercase and whitespaces."
   ]
  },
  {
   "cell_type": "markdown",
   "metadata": {},
   "source": [
    "### Solution #1"
   ]
  },
  {
   "cell_type": "code",
   "execution_count": 41,
   "metadata": {},
   "outputs": [
    {
     "name": "stdout",
     "output_type": "stream",
     "text": [
      "Example:\n",
      "{'i': 4, 'was': 3, 'three': 0, 'near': 0}\n",
      "Coding complete? Click 'Check' to earn cool rewards!\n"
     ]
    }
   ],
   "source": [
    "def popular_words(text:str, words:list) -> dict:\n",
    "    text = text.lower().split()\n",
    "    return {word : (text.count(word) if word in words else 0) for word in words}\n",
    "\n",
    "if __name__ == '__main__':\n",
    "    print(\"Example:\")\n",
    "    print(popular_words('''\n",
    "When I was One\n",
    "I had just begun\n",
    "When I was Two\n",
    "I was nearly new\n",
    "''', ['i', 'was', 'three', 'near']))\n",
    "\n",
    "    # These \"asserts\" are used for self-checking and not for an auto-testing\n",
    "    assert popular_words('''\n",
    "When I was One\n",
    "I had just begun\n",
    "When I was Two\n",
    "I was nearly new\n",
    "''', ['i', 'was', 'three', 'near']) == {\n",
    "        'i': 4,\n",
    "        'was': 3,\n",
    "        'three': 0,\n",
    "        'near': 0\n",
    "    }\n",
    "    print(\"Coding complete? Click 'Check' to earn cool rewards!\")"
   ]
  },
  {
   "cell_type": "markdown",
   "metadata": {},
   "source": [
    "### Solution #2"
   ]
  },
  {
   "cell_type": "code",
   "execution_count": 51,
   "metadata": {},
   "outputs": [
    {
     "name": "stdout",
     "output_type": "stream",
     "text": [
      "Example:\n",
      "{'i': 4, 'was': 3, 'three': 0, 'near': 0}\n",
      "Coding complete? Click 'Check' to earn cool rewards!\n"
     ]
    }
   ],
   "source": [
    "def popular_words(text:str, words:list) -> dict:\n",
    "    lower_count = text.lower().split().count\n",
    "    return {word : lower_count(word) for word in words}\n",
    "\n",
    "if __name__ == '__main__':\n",
    "    print(\"Example:\")\n",
    "    print(popular_words('''\n",
    "When I was One\n",
    "I had just begun\n",
    "When I was Two\n",
    "I was nearly new\n",
    "''', ['i', 'was', 'three', 'near']))\n",
    "\n",
    "    # These \"asserts\" are used for self-checking and not for an auto-testing\n",
    "    assert popular_words('''\n",
    "When I was One\n",
    "I had just begun\n",
    "When I was Two\n",
    "I was nearly new\n",
    "''', ['i', 'was', 'three', 'near']) == {\n",
    "        'i': 4,1\n",
    "        'was': 3,\n",
    "        'three': 0,\n",
    "        'near': 0\n",
    "    }\n",
    "    print(\"Coding complete? Click 'Check' to earn cool rewards!\")"
   ]
  },
  {
   "cell_type": "code",
   "execution_count": 44,
   "metadata": {},
   "outputs": [
    {
     "data": {
      "text/plain": [
       "<function list.count(value, /)>"
      ]
     },
     "execution_count": 44,
     "metadata": {},
     "output_type": "execute_result"
    }
   ],
   "source": [
    "'''\n",
    "When I was One\n",
    "I had just begun\n",
    "When I was Two\n",
    "I was nearly new\n",
    "'''.lower().split().count"
   ]
  },
  {
   "cell_type": "code",
   "execution_count": 55,
   "metadata": {},
   "outputs": [
    {
     "data": {
      "text/plain": [
       "3"
      ]
     },
     "execution_count": 55,
     "metadata": {},
     "output_type": "execute_result"
    }
   ],
   "source": [
    "'''\n",
    "When I was One\n",
    "I had just begun\n",
    "When I was Two\n",
    "I was nearly new\n",
    "'''.lower().split().count('was')"
   ]
  },
  {
   "cell_type": "markdown",
   "metadata": {},
   "source": [
    "## Second Index\n",
    "\n",
    "You are given two strings and you have to find an index of the second occurrence of the second string in the first one.\n",
    "\n",
    "Let's go through the first example where you need to find the second occurrence of \"s\" in a word \"sims\". It’s easy to find its first occurrence with a function index or find which will point out that \"s\" is the first symbol in a word \"sims\" and therefore the index of the first occurrence is 0. But we have to find the second \"s\" which is 4th in a row and that means that the index of the second occurrence (and the answer to a question) is 3.\n",
    "\n",
    "**Input:** Two strings.\n",
    "\n",
    "**Output:** Int or None\n",
    "\n",
    "**Example:**\n",
    "\n",
    "```\n",
    "second_index(\"sims\", \"s\") == 3\n",
    "second_index(\"find the river\", \"e\") == 12\n",
    "second_index(\"hi\", \" \") is None\n",
    "```"
   ]
  },
  {
   "cell_type": "markdown",
   "metadata": {},
   "source": [
    "### Solution #1"
   ]
  },
  {
   "cell_type": "code",
   "execution_count": 61,
   "metadata": {},
   "outputs": [
    {
     "name": "stdout",
     "output_type": "stream",
     "text": [
      "Example:\n",
      "3\n",
      "You are awesome! All tests are done! Go Check it!\n"
     ]
    }
   ],
   "source": [
    "def second_index(text:str, string:str) -> int:\n",
    "    if (text.count(string) > 1):\n",
    "        point = text.index(string)+1\n",
    "        return len(text[:point]) + text[point:].index(string)\n",
    "    return None\n",
    "\n",
    "if __name__ == '__main__':\n",
    "    print('Example:')\n",
    "    print(second_index(\"sims\", \"s\"))\n",
    "\n",
    "    # These \"asserts\" are used for self-checking and not for an auto-testing\n",
    "    assert second_index(\"sims\", \"s\") == 3, \"First\"\n",
    "    assert second_index(\"find the river\", \"e\") == 12, \"Second\"\n",
    "    assert second_index(\"hi\", \" \") is None, \"Third\"\n",
    "    assert second_index(\"hi mayor\", \" \") is None, \"Fourth\"\n",
    "    assert second_index(\"hi mr Mayor\", \" \") == 5, \"Fifth\"\n",
    "    print('You are awesome! All tests are done! Go Check it!')"
   ]
  },
  {
   "cell_type": "markdown",
   "metadata": {},
   "source": [
    "### Solution #2"
   ]
  },
  {
   "cell_type": "code",
   "execution_count": 66,
   "metadata": {},
   "outputs": [
    {
     "name": "stdout",
     "output_type": "stream",
     "text": [
      "Example:\n",
      "3\n",
      "You are awesome! All tests are done! Go Check it!\n"
     ]
    }
   ],
   "source": [
    "def second_index(text:str, string:str) -> int:\n",
    "    return text.replace(string, '', 1).index(string) + 1 if text.count(string) > 1 else None\n",
    "\n",
    "if __name__ == '__main__':\n",
    "    print('Example:')\n",
    "    print(second_index(\"sims\", \"s\"))\n",
    "\n",
    "    # These \"asserts\" are used for self-checking and not for an auto-testing\n",
    "    assert second_index(\"sims\", \"s\") == 3, \"First\"\n",
    "    assert second_index(\"find the river\", \"e\") == 12, \"Second\"\n",
    "    assert second_index(\"hi\", \" \") is None, \"Third\"\n",
    "    assert second_index(\"hi mayor\", \" \") is None, \"Fourth\"\n",
    "    assert second_index(\"hi mr Mayor\", \" \") == 5, \"Fifth\"\n",
    "    print('You are awesome! All tests are done! Go Check it!')"
   ]
  },
  {
   "cell_type": "markdown",
   "metadata": {},
   "source": [
    "### Solution #3 "
   ]
  },
  {
   "cell_type": "code",
   "execution_count": 67,
   "metadata": {},
   "outputs": [
    {
     "name": "stdout",
     "output_type": "stream",
     "text": [
      "Example:\n",
      "3\n",
      "You are awesome! All tests are done! Go Check it!\n"
     ]
    }
   ],
   "source": [
    "def second_index(text:str, string:str) -> int:\n",
    "    if text.count(string) > 1:\n",
    "        return text.find(string, text.find(string)+1)\n",
    "if __name__ == '__main__':\n",
    "    print('Example:')\n",
    "    print(second_index(\"sims\", \"s\"))\n",
    "\n",
    "    # These \"asserts\" are used for self-checking and not for an auto-testing\n",
    "    assert second_index(\"sims\", \"s\") == 3, \"First\"\n",
    "    assert second_index(\"find the river\", \"e\") == 12, \"Second\"\n",
    "    assert second_index(\"hi\", \" \") is None, \"Third\"\n",
    "    assert second_index(\"hi mayor\", \" \") is None, \"Fourth\"\n",
    "    assert second_index(\"hi mr Mayor\", \" \") == 5, \"Fifth\"\n",
    "    print('You are awesome! All tests are done! Go Check it!')    "
   ]
  },
  {
   "cell_type": "markdown",
   "metadata": {},
   "source": [
    "### Solution #4"
   ]
  },
  {
   "cell_type": "code",
   "execution_count": 75,
   "metadata": {},
   "outputs": [
    {
     "name": "stdout",
     "output_type": "stream",
     "text": [
      "Example:\n",
      "3\n",
      "You are awesome! All tests are done! Go Check it!\n"
     ]
    }
   ],
   "source": [
    "def second_index(text:str, string:str) -> int:\n",
    "    try:\n",
    "        return text.index(string, text.index(string) + 1)\n",
    "    except ValueError:\n",
    "        return None\n",
    "\n",
    "if __name__ == '__main__':\n",
    "    print('Example:')\n",
    "    print(second_index(\"sims\", \"s\"))\n",
    "\n",
    "    # These \"asserts\" are used for self-checking and not for an auto-testing\n",
    "    assert second_index(\"sims\", \"s\") == 3, \"First\"\n",
    "    assert second_index(\"find the river\", \"e\") == 12, \"Second\"\n",
    "    assert second_index(\"hi\", \" \") is None, \"Third\"\n",
    "    assert second_index(\"hi mayor\", \" \") is None, \"Fourth\"\n",
    "    assert second_index(\"hi mr Mayor\", \" \") == 5, \"Fifth\"\n",
    "    print('You are awesome! All tests are done! Go Check it!')  \n",
    "    "
   ]
  },
  {
   "cell_type": "markdown",
   "metadata": {},
   "source": [
    "### Solution #5 - import contextlib"
   ]
  },
  {
   "cell_type": "code",
   "execution_count": 80,
   "metadata": {},
   "outputs": [
    {
     "name": "stdout",
     "output_type": "stream",
     "text": [
      "Example:\n",
      "3\n",
      "You are awesome! All tests are done! Go Check it!\n"
     ]
    }
   ],
   "source": [
    "import contextlib\n",
    "\n",
    "def second_index(text:str, string:str) -> int:\n",
    "    with contextlib.suppress(ValueError):\n",
    "        manhattan = text.index(string)\n",
    "        berlin = text.index(string, manhattan + 1)\n",
    "        return berlin\n",
    "\n",
    "if __name__ == '__main__':\n",
    "    print('Example:')\n",
    "    print(second_index(\"sims\", \"s\"))\n",
    "\n",
    "    # These \"asserts\" are used for self-checking and not for an auto-testing\n",
    "    assert second_index(\"sims\", \"s\") == 3, \"First\"\n",
    "    assert second_index(\"find the river\", \"e\") == 12, \"Second\"\n",
    "    assert second_index(\"hi\", \" \") is None, \"Third\"\n",
    "    assert second_index(\"hi mayor\", \" \") is None, \"Fourth\"\n",
    "    assert second_index(\"hi mr Mayor\", \" \") == 5, \"Fifth\"\n",
    "    print('You are awesome! All tests are done! Go Check it!') \n"
   ]
  },
  {
   "cell_type": "markdown",
   "metadata": {},
   "source": [
    "## Sort Array by Element Frequency\n",
    "\n",
    "Sort the given iterable so that its elements end up in the decreasing frequency order, that is, the number of times they appear in elements. If two elements have the same frequency, they should end up in the same order as the first appearance in the iterable.\n",
    "\n",
    "**Input:** Iterable\n",
    "\n",
    "**Output:** Iterable\n",
    "\n",
    "**Example:**\n",
    "\n",
    "```\n",
    "frequency_sort([4, 6, 2, 2, 6, 4, 4, 4]) == [4, 4, 4, 4, 6, 6, 2, 2]\n",
    "frequency_sort(['bob', 'bob', 'carl', 'alex', 'bob']) == ['bob', 'bob', 'bob', 'carl', 'alex']\n",
    "```\n",
    "**Precondition:** elements can be ints or strings"
   ]
  },
  {
   "cell_type": "markdown",
   "metadata": {},
   "source": [
    "### Solution #1"
   ]
  },
  {
   "cell_type": "code",
   "execution_count": 118,
   "metadata": {},
   "outputs": [
    {
     "name": "stdout",
     "output_type": "stream",
     "text": [
      "Example:\n",
      "[4, 4, 4, 4, 6, 6, 2, 2]\n",
      "Coding complete? Click 'Check' to earn cool rewards!\n"
     ]
    }
   ],
   "source": [
    "from collections import Counter\n",
    "\n",
    "def frequency_sort(lst: list) -> list:\n",
    "    common_lst = Counter(lst).most_common()\n",
    "    lst2 = []\n",
    "    for value, counts in common_lst:\n",
    "        lst2 += [value]*counts\n",
    "    return lst2\n",
    "\n",
    "# Shorter version:\n",
    "# def frequency_sort(items):\n",
    "#     from collections import Counter\n",
    "#     return [item for ite, c in Counter(items).most_common()\n",
    "#                                       for item in [ite] * c]\n",
    "\n",
    "\n",
    "    # These \"asserts\" are used for self-checking and not for an auto-testing\n",
    "    assert list(frequency_sort([4, 6, 2, 2, 6, 4, 4, 4])) == [4, 4, 4, 4, 6, 6, 2, 2]\n",
    "    assert list(frequency_sort(['bob', 'bob', 'carl', 'alex', 'bob'])) == ['bob', 'bob', 'bob', 'carl', 'alex']\n",
    "    assert list(frequency_sort([17, 99, 42])) == [17, 99, 42]\n",
    "    assert list(frequency_sort([])) == []\n",
    "    assert list(frequency_sort([1])) == [1]\n",
    "    print(\"Coding complete? Click 'Check' to earn cool rewards!\")"
   ]
  },
  {
   "cell_type": "markdown",
   "metadata": {},
   "source": [
    "### Solution #2"
   ]
  },
  {
   "cell_type": "code",
   "execution_count": 134,
   "metadata": {},
   "outputs": [
    {
     "name": "stdout",
     "output_type": "stream",
     "text": [
      "Example:\n",
      "[4, 4, 4, 4, 6, 6, 2, 2]\n",
      "Coding complete? Click 'Check' to earn cool rewards!\n"
     ]
    }
   ],
   "source": [
    "def frequencty_sort(lst:list) -> list:\n",
    "    d = {value:lst.count(value) for value in lst}\n",
    "    ordered = sorted(d, key= lambda x: d[x], reverse=True)\n",
    "    return [a for value in ordered for a in value*d[value]]\n",
    "\n",
    "if __name__ == '__main__':\n",
    "    print(\"Example:\")\n",
    "    print(frequency_sort([4, 6, 2, 2, 6, 4, 4, 4]))\n",
    "\n",
    "    # These \"asserts\" are used for self-checking and not for an auto-testing\n",
    "    assert list(frequency_sort([4, 6, 2, 2, 6, 4, 4, 4])) == [4, 4, 4, 4, 6, 6, 2, 2]\n",
    "    assert list(frequency_sort(['bob', 'bob', 'carl', 'alex', 'bob'])) == ['bob', 'bob', 'bob', 'carl', 'alex']\n",
    "    assert list(frequency_sort([17, 99, 42])) == [17, 99, 42]\n",
    "    assert list(frequency_sort([])) == []\n",
    "    assert list(frequency_sort([1])) == [1]\n",
    "    print(\"Coding complete? Click 'Check' to earn cool rewards!\")"
   ]
  },
  {
   "cell_type": "code",
   "execution_count": 122,
   "metadata": {},
   "outputs": [
    {
     "data": {
      "text/plain": [
       "{'bob': 3, 'carl': 1, 'alex': 1}"
      ]
     },
     "execution_count": 122,
     "metadata": {},
     "output_type": "execute_result"
    }
   ],
   "source": [
    "d = {i:items.count(i) for i in items}\n",
    "d"
   ]
  },
  {
   "cell_type": "code",
   "execution_count": 126,
   "metadata": {},
   "outputs": [
    {
     "data": {
      "text/plain": [
       "['bob', 'carl', 'alex']"
      ]
     },
     "execution_count": 126,
     "metadata": {},
     "output_type": "execute_result"
    }
   ],
   "source": [
    "ordered = sorted(d, key=lambda x: d[x], reverse=True)\n",
    "ordered"
   ]
  },
  {
   "cell_type": "code",
   "execution_count": 129,
   "metadata": {},
   "outputs": [
    {
     "data": {
      "text/plain": [
       "['bob', 'bob', 'bob', 'carl', 'alex']"
      ]
     },
     "execution_count": 129,
     "metadata": {},
     "output_type": "execute_result"
    }
   ],
   "source": [
    "[a for i in ordered for a in d[i]*[i]]"
   ]
  },
  {
   "cell_type": "markdown",
   "metadata": {},
   "source": [
    "### Solution #3"
   ]
  },
  {
   "cell_type": "code",
   "execution_count": 135,
   "metadata": {},
   "outputs": [
    {
     "name": "stdout",
     "output_type": "stream",
     "text": [
      "Example:\n",
      "[4, 4, 4, 4, 6, 6, 2, 2]\n",
      "Coding complete? Click 'Check' to earn cool rewards!\n"
     ]
    }
   ],
   "source": [
    "def frequency_sort(arr):\n",
    "    return sorted(arr, key=lambda x: (-arr.count(x), arr.index(x)))\n",
    "\n",
    "\n",
    "\n",
    "\n",
    "if __name__ == '__main__':\n",
    "    print(\"Example:\")\n",
    "    print(frequency_sort([4, 6, 2, 2, 6, 4, 4, 4]))\n",
    "\n",
    "    # These \"asserts\" are used for self-checking and not for an auto-testing\n",
    "    assert list(frequency_sort([4, 6, 2, 2, 6, 4, 4, 4])) == [4, 4, 4, 4, 6, 6, 2, 2]\n",
    "    assert list(frequency_sort(['bob', 'bob', 'carl', 'alex', 'bob'])) == ['bob', 'bob', 'bob', 'carl', 'alex']\n",
    "    assert list(frequency_sort([17, 99, 42])) == [17, 99, 42]\n",
    "    assert list(frequency_sort([])) == []\n",
    "    assert list(frequency_sort([1])) == [1]\n",
    "    print(\"Coding complete? Click 'Check' to earn cool rewards!\")"
   ]
  },
  {
   "cell_type": "code",
   "execution_count": 139,
   "metadata": {},
   "outputs": [
    {
     "data": {
      "text/plain": [
       "0"
      ]
     },
     "execution_count": 139,
     "metadata": {},
     "output_type": "execute_result"
    }
   ],
   "source": [
    "lst.index('bob')"
   ]
  },
  {
   "cell_type": "code",
   "execution_count": null,
   "metadata": {},
   "outputs": [],
   "source": []
  }
 ],
 "metadata": {
  "kernelspec": {
   "display_name": "Python 3",
   "language": "python",
   "name": "python3"
  },
  "language_info": {
   "codemirror_mode": {
    "name": "ipython",
    "version": 3
   },
   "file_extension": ".py",
   "mimetype": "text/x-python",
   "name": "python",
   "nbconvert_exporter": "python",
   "pygments_lexer": "ipython3",
   "version": "3.7.6"
  }
 },
 "nbformat": 4,
 "nbformat_minor": 2
}

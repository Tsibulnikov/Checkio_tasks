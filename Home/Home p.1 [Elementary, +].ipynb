{
 "cells": [
  {
   "cell_type": "markdown",
   "metadata": {},
   "source": [
    "## Sum Numbers\n",
    "\n",
    "In a given text you need to sum the numbers. Only separated numbers should be counted. If a number is part of a word it shouldn't be counted.\n",
    "\n",
    "The text consists from numbers, spaces and english letters\n",
    "\n",
    "**Input:** A string.\n",
    "\n",
    "**Output:** An int.\n",
    "\n",
    "**Example:**\n",
    "```\n",
    "sum_numbers('hi') == 0\n",
    "sum_numbers('who is 1st here') == 0\n",
    "sum_numbers('my numbers is 2') == 2\n",
    "sum_numbers('This picture is an oil on canvas '\n",
    " 'painting by Danish artist Anna '\n",
    " 'Petersen between 1845 and 1910 year') == 3755\n",
    "sum_numbers('5 plus 6 is') == 11\n",
    "sum_numbers('') == 0\n",
    "```"
   ]
  },
  {
   "cell_type": "markdown",
   "metadata": {},
   "source": [
    "### Solution #1"
   ]
  },
  {
   "cell_type": "code",
   "execution_count": 7,
   "metadata": {},
   "outputs": [
    {
     "name": "stdout",
     "output_type": "stream",
     "text": [
      "Example:\n",
      "0\n",
      "Coding complete? Click 'Check' to earn cool rewards!\n"
     ]
    }
   ],
   "source": [
    "def sum_numbers(string:str) -> int:\n",
    "    result = 0\n",
    "    lst = string.split()\n",
    "    for val in lst:\n",
    "        if val.isdigit():\n",
    "            result+= int(val)\n",
    "    return result\n",
    "\n",
    "if __name__ == '__main__':\n",
    "    print('Example:')\n",
    "    print(sum_numbers('hi'))\n",
    "    \n",
    "    # These \"asserts\" are used for self-checking and not for an auto-testing\n",
    "    assert sum_numbers('hi') == 0\n",
    "    assert sum_numbers('who is 1st here') == 0\n",
    "    assert sum_numbers('my numbers is 2') == 2\n",
    "    assert sum_numbers('This picture is an oil on canvas '\n",
    " 'painting by Danish artist Anna '\n",
    " 'Petersen between 1845 and 1910 year') == 3755\n",
    "    assert sum_numbers('5 plus 6 is') == 11\n",
    "    assert sum_numbers('') == 0\n",
    "    print(\"Coding complete? Click 'Check' to earn cool rewards!\")"
   ]
  },
  {
   "cell_type": "markdown",
   "metadata": {},
   "source": [
    "### Solution #2"
   ]
  },
  {
   "cell_type": "code",
   "execution_count": 8,
   "metadata": {},
   "outputs": [
    {
     "name": "stdout",
     "output_type": "stream",
     "text": [
      "Example:\n",
      "0\n",
      "Coding complete? Click 'Check' to earn cool rewards!\n"
     ]
    }
   ],
   "source": [
    "def sum_numbers(text:str) -> int:\n",
    "    return sum([int(word) for word in text.split() if word.isdigit()])\n",
    "\n",
    "if __name__ == '__main__':\n",
    "    print('Example:')\n",
    "    print(sum_numbers('hi'))\n",
    "    \n",
    "    # These \"asserts\" are used for self-checking and not for an auto-testing\n",
    "    assert sum_numbers('hi') == 0\n",
    "    assert sum_numbers('who is 1st here') == 0\n",
    "    assert sum_numbers('my numbers is 2') == 2\n",
    "    assert sum_numbers('This picture is an oil on canvas '\n",
    " 'painting by Danish artist Anna '\n",
    " 'Petersen between 1845 and 1910 year') == 3755\n",
    "    assert sum_numbers('5 plus 6 is') == 11\n",
    "    assert sum_numbers('') == 0\n",
    "    print(\"Coding complete? Click 'Check' to earn cool rewards!\")"
   ]
  },
  {
   "cell_type": "markdown",
   "metadata": {},
   "source": [
    "## Bigger Price\n",
    "\n",
    "You have a table with all available goods in the store. The data is represented as a list of dicts\n",
    "\n",
    "Your mission here is to find the TOP most expensive goods. The amount we are looking for will be given as a first argument and the whole data as the second one\n",
    "\n",
    "**Input:** int and list of dicts. Each dicts has two keys \"name\" and \"price\"\n",
    "\n",
    "**Output:** the same as the second Input argument.\n",
    "\n",
    "**Example:**\n",
    "\n",
    "```\n",
    "bigger_price(2, [\n",
    "    {\"name\": \"bread\", \"price\": 100},\n",
    "    {\"name\": \"wine\", \"price\": 138},\n",
    "    {\"name\": \"meat\", \"price\": 15},\n",
    "    {\"name\": \"water\", \"price\": 1}\n",
    "]) == [\n",
    "    {\"name\": \"wine\", \"price\": 138},\n",
    "    {\"name\": \"bread\", \"price\": 100}\n",
    "]\n",
    "\n",
    "bigger_price(1, [\n",
    "    {\"name\": \"pen\", \"price\": 5},\n",
    "    {\"name\": \"whiteboard\", \"price\": 170}\n",
    "]) == [{\"name\": \"whiteboard\", \"price\": 170}]\n",
    "```"
   ]
  },
  {
   "cell_type": "markdown",
   "metadata": {},
   "source": [
    "### Solution #1"
   ]
  },
  {
   "cell_type": "code",
   "execution_count": 41,
   "metadata": {},
   "outputs": [
    {
     "name": "stdout",
     "output_type": "stream",
     "text": [
      "Example:\n",
      "[{'name': 'wine', 'price': 138}, {'name': 'bread', 'price': 100}]\n",
      "Example:\n",
      "[{'name': 'wine', 'price': 138}, {'name': 'bread', 'price': 100}]\n",
      "Done! Looks like it is fine. Go and check it\n"
     ]
    }
   ],
   "source": [
    "def bigger_price(number:int, lst:list) -> list:\n",
    "    return sorted(lst, key= lambda item: item['price'], reverse=True)[0:number]\n",
    "\n",
    "if __name__ == '__main__':\n",
    "    print('Example:')\n",
    "    print(bigger_price(2, [\n",
    "    {\"name\": \"bread\", \"price\": 100},\n",
    "    {\"name\": \"wine\", \"price\": 138},\n",
    "    {\"name\": \"meat\", \"price\": 15},\n",
    "    {\"name\": \"water\", \"price\": 1}\n",
    "]))\n",
    "    \n",
    "    from pprint import pprint\n",
    "    print('Example:')\n",
    "    pprint(bigger_price(2, [\n",
    "        {\"name\": \"bread\", \"price\": 100},\n",
    "        {\"name\": \"wine\", \"price\": 138},\n",
    "        {\"name\": \"meat\", \"price\": 15},\n",
    "        {\"name\": \"water\", \"price\": 1}\n",
    "    ]))\n",
    "\n",
    "    # These \"asserts\" using for self-checking and not for auto-testing\n",
    "    assert bigger_price(2, [\n",
    "        {\"name\": \"bread\", \"price\": 100},\n",
    "        {\"name\": \"wine\", \"price\": 138},\n",
    "        {\"name\": \"meat\", \"price\": 15},\n",
    "        {\"name\": \"water\", \"price\": 1}\n",
    "    ]) == [\n",
    "        {\"name\": \"wine\", \"price\": 138},\n",
    "        {\"name\": \"bread\", \"price\": 100}\n",
    "    ], \"First\"\n",
    "\n",
    "    assert bigger_price(1, [\n",
    "        {\"name\": \"pen\", \"price\": 5},\n",
    "        {\"name\": \"whiteboard\", \"price\": 170}\n",
    "    ]) == [{\"name\": \"whiteboard\", \"price\": 170}], \"Second\"\n",
    "\n",
    "    print('Done! Looks like it is fine. Go and check it')\n",
    "    "
   ]
  },
  {
   "cell_type": "code",
   "execution_count": 38,
   "metadata": {},
   "outputs": [
    {
     "data": {
      "text/plain": [
       "[{'name': 'wine', 'price': 138}]"
      ]
     },
     "execution_count": 38,
     "metadata": {},
     "output_type": "execute_result"
    }
   ],
   "source": [
    "sorted(lst, key= lambda item: item['price'], reverse=True)[0:1]"
   ]
  },
  {
   "cell_type": "markdown",
   "metadata": {},
   "source": [
    "### Solution #2"
   ]
  },
  {
   "cell_type": "code",
   "execution_count": 48,
   "metadata": {},
   "outputs": [
    {
     "name": "stdout",
     "output_type": "stream",
     "text": [
      "Example:\n",
      "[{'name': 'wine', 'price': 138}, {'name': 'bread', 'price': 100}]\n",
      "Example:\n",
      "[{'name': 'wine', 'price': 138}, {'name': 'bread', 'price': 100}]\n",
      "Done! Looks like it is fine. Go and check it\n"
     ]
    }
   ],
   "source": [
    "import operator, heapq, functools\n",
    "\n",
    "bigger_price = functools.partial(heapq.nlargest, key=operator.itemgetter('price'))\n",
    "\n",
    "if __name__ == '__main__':\n",
    "    print('Example:')\n",
    "    print(bigger_price(2, [\n",
    "    {\"name\": \"bread\", \"price\": 100},\n",
    "    {\"name\": \"wine\", \"price\": 138},\n",
    "    {\"name\": \"meat\", \"price\": 15},\n",
    "    {\"name\": \"water\", \"price\": 1}\n",
    "]))\n",
    "    \n",
    "    from pprint import pprint\n",
    "    print('Example:')\n",
    "    pprint(bigger_price(2, [\n",
    "        {\"name\": \"bread\", \"price\": 100},\n",
    "        {\"name\": \"wine\", \"price\": 138},\n",
    "        {\"name\": \"meat\", \"price\": 15},\n",
    "        {\"name\": \"water\", \"price\": 1}\n",
    "    ]))\n",
    "\n",
    "    # These \"asserts\" using for self-checking and not for auto-testing\n",
    "    assert bigger_price(2, [\n",
    "        {\"name\": \"bread\", \"price\": 100},\n",
    "        {\"name\": \"wine\", \"price\": 138},\n",
    "        {\"name\": \"meat\", \"price\": 15},\n",
    "        {\"name\": \"water\", \"price\": 1}\n",
    "    ]) == [\n",
    "        {\"name\": \"wine\", \"price\": 138},\n",
    "        {\"name\": \"bread\", \"price\": 100}\n",
    "    ], \"First\"\n",
    "\n",
    "    assert bigger_price(1, [\n",
    "        {\"name\": \"pen\", \"price\": 5},\n",
    "        {\"name\": \"whiteboard\", \"price\": 170}\n",
    "    ]) == [{\"name\": \"whiteboard\", \"price\": 170}], \"Second\"\n",
    "\n",
    "    print('Done! Looks like it is fine. Go and check it')"
   ]
  },
  {
   "cell_type": "code",
   "execution_count": 49,
   "metadata": {},
   "outputs": [],
   "source": [
    "# https://py.checkio.org/mission/bigger-price/publications/veky/python-3/connecting-the-dots/?ordering=most_voted&filtering=all"
   ]
  },
  {
   "cell_type": "markdown",
   "metadata": {},
   "source": [
    "## Between Markers\n",
    "\n",
    "You are given a string and two markers (the initial and final). You have to find a substring enclosed between these two markers. But there are a few important conditions:\n",
    "\n",
    "* The initial and final markers are always different.\n",
    "* If there is no initial marker, then the first character should be considered the beginning of a string.\n",
    "* If there is no final marker, then the last character should be considered the ending of a string.\n",
    "* If the initial and final markers are missing then simply return the whole string.\n",
    "* If the final marker comes before the initial marker, then return an empty string.\n",
    "**Input:** Three arguments. All of them are strings. The second and third arguments are the initial and final markers.\n",
    "\n",
    "**Output:** A string.\n",
    "\n",
    "**Example:**\n",
    "\n",
    "```\n",
    "between_markers('What is >apple<', '>', '<') == 'apple'\n",
    "between_markers('No[/b] hi', '[b]', '[/b]') == 'No'\n",
    "```\n",
    "**How it is used:** for parsing texts\n",
    "\n",
    "**Precondition:** can't be more than one final marker and can't be more than one initial. Marker can't be an empty string"
   ]
  },
  {
   "cell_type": "markdown",
   "metadata": {},
   "source": [
    "### Solution #1 \n",
    "#### *(using SequenceMatcher from difflib) *"
   ]
  },
  {
   "cell_type": "code",
   "execution_count": 134,
   "metadata": {},
   "outputs": [
    {
     "name": "stdout",
     "output_type": "stream",
     "text": [
      "Example:\n",
      "apple\n",
      "Wow, you are doing pretty good. Time to check it!\n"
     ]
    }
   ],
   "source": [
    "from difflib import SequenceMatcher\n",
    "\n",
    "def between_markers(text:str, marker1:str, marker2:str) -> str:\n",
    "    if (marker1 in text) and (marker2 in text) and (text.index(marker1) > text.index(marker2)):\n",
    "        return ''\n",
    "    else:\n",
    "        if marker1 in text:\n",
    "            string1 = text[text.index(marker1) + len(marker1):]\n",
    "        else:\n",
    "            string1 = text\n",
    "        if marker2 in text:\n",
    "            string2 = text[:text.index(marker2)]\n",
    "        else:\n",
    "            string2 = text\n",
    "        #print('str1:', string1, 'str2:', string2)\n",
    "        match = SequenceMatcher(None, string1, string2).find_longest_match(0, len(string1), 0, len(string2))\n",
    "        #print(match)\n",
    "        return (string1[match.a:match.a + match.size])\n",
    "\n",
    "if __name__ == '__main__':\n",
    "    print('Example:')\n",
    "    print(between_markers('What is >apple<', '>', '<'))\n",
    "\n",
    "    # These \"asserts\" are used for self-checking and not for testing\n",
    "    assert between_markers('What is >apple<', '>', '<') == \"apple\", \"One sym\"\n",
    "    assert between_markers(\"<head><title>My new site</title></head>\",\n",
    "                           \"<title>\", \"</title>\") == \"My new site\", \"HTML\"\n",
    "    assert between_markers('No[/b] hi', '[b]', '[/b]') == 'No', 'No opened'\n",
    "    assert between_markers('No [b]hi', '[b]', '[/b]') == 'hi', 'No close'\n",
    "    assert between_markers('No hi', '[b]', '[/b]') == 'No hi', 'No markers at all'\n",
    "    assert between_markers('No <hi>', '>', '<') == '', 'Wrong direction'\n",
    "    assert between_markers(\"No <hi> one\",\">\",\"<\") == ''\n",
    "    print('Wow, you are doing pretty good. Time to check it!')"
   ]
  },
  {
   "cell_type": "markdown",
   "metadata": {},
   "source": [
    "### Solution #2\n",
    "#### *Using slices*"
   ]
  },
  {
   "cell_type": "code",
   "execution_count": 155,
   "metadata": {},
   "outputs": [
    {
     "name": "stdout",
     "output_type": "stream",
     "text": [
      "Example:\n",
      "apple\n",
      "Wow, you are doing pretty good. Time to check it!\n"
     ]
    }
   ],
   "source": [
    "def between_markers(text:str, begin:str, end:str) -> str:\n",
    "    return text.split(begin)[-1].split(end)[0] if (text.find(begin) <= text.find(end)) or text.find(end) == -1 else ''\n",
    "    \n",
    "if __name__ == '__main__':\n",
    "    print('Example:')\n",
    "    print(between_markers('What is >apple<', '>', '<'))\n",
    "    \n",
    "        # These \"asserts\" are used for self-checking and not for testing\n",
    "    assert between_markers('What is >apple<', '>', '<') == \"apple\", \"One sym\"\n",
    "    assert between_markers(\"<head><title>My new site</title></head>\",\n",
    "                           \"<title>\", \"</title>\") == \"My new site\", \"HTML\"\n",
    "    assert between_markers('No[/b] hi', '[b]', '[/b]') == 'No', 'No opened'\n",
    "    assert between_markers('No [b]hi', '[b]', '[/b]') == 'hi', 'No close'\n",
    "    assert between_markers('No hi', '[b]', '[/b]') == 'No hi', 'No markers at all'\n",
    "    assert between_markers('No <hi>', '>', '<') == '', 'Wrong direction'\n",
    "    assert between_markers(\"No <hi> one\",\">\",\"<\") == ''\n",
    "    print('Wow, you are doing pretty good. Time to check it!')"
   ]
  },
  {
   "cell_type": "code",
   "execution_count": 146,
   "metadata": {},
   "outputs": [],
   "source": [
    "text = \"No <hi> one\"\n",
    "begin = '>'\n",
    "end = '<'"
   ]
  },
  {
   "cell_type": "code",
   "execution_count": 152,
   "metadata": {},
   "outputs": [
    {
     "data": {
      "text/plain": [
       "' one'"
      ]
     },
     "execution_count": 152,
     "metadata": {},
     "output_type": "execute_result"
    }
   ],
   "source": [
    "text.split(begin)[-1].split(end)[0]"
   ]
  },
  {
   "cell_type": "code",
   "execution_count": null,
   "metadata": {},
   "outputs": [],
   "source": []
  }
 ],
 "metadata": {
  "kernelspec": {
   "display_name": "Python 3",
   "language": "python",
   "name": "python3"
  },
  "language_info": {
   "codemirror_mode": {
    "name": "ipython",
    "version": 3
   },
   "file_extension": ".py",
   "mimetype": "text/x-python",
   "name": "python",
   "nbconvert_exporter": "python",
   "pygments_lexer": "ipython3",
   "version": "3.7.4"
  }
 },
 "nbformat": 4,
 "nbformat_minor": 2
}

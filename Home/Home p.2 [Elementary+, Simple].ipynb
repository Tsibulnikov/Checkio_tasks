{
 "cells": [
  {
   "cell_type": "markdown",
   "metadata": {},
   "source": [
    "## Split List\n",
    "\n",
    "You have to split a given array into two arrays. If it has an odd amount of elements, then the first array should have more elements. If it has no elements, then two empty arrays should be returned.\n",
    "\n",
    "\n",
    "**Input:** Array.\n",
    "\n",
    "**Output:** Array or two arrays.\n",
    "\n",
    "**Example:**\n",
    "\n",
    "```\n",
    "split_list([1, 2, 3, 4, 5, 6]) == [[1, 2, 3], [4, 5, 6]]\n",
    "split_list([1, 2, 3]) == [[1, 2], [3]]\n",
    "```"
   ]
  },
  {
   "cell_type": "markdown",
   "metadata": {},
   "source": [
    "### Solution #1"
   ]
  },
  {
   "cell_type": "code",
   "execution_count": 23,
   "metadata": {},
   "outputs": [
    {
     "name": "stdout",
     "output_type": "stream",
     "text": [
      "Example:\n",
      "[[1, 2, 3], [4, 5, 6]]\n",
      "[[1, 2], [3]]\n"
     ]
    }
   ],
   "source": [
    "def split_list(lst:list) -> list:\n",
    "    empty = []\n",
    "    l = len(lst)\n",
    "    half = int(l/2)\n",
    "    if (l > 0) and (l % 2 == 0):\n",
    "        empty.append(lst[:half])\n",
    "        empty.append(lst[half:])\n",
    "    elif (l > 0 ) and (l % 2 != 0):\n",
    "        empty.append(lst[:half+1])\n",
    "        empty.append(lst[half+1:])\n",
    "    return empty\n",
    "\n",
    "if __name__ == '__main__':\n",
    "    print('Example:')\n",
    "    print(split_list([1, 2, 3, 4, 5, 6]))\n",
    "    print(split_list([1, 2, 3]))"
   ]
  },
  {
   "cell_type": "markdown",
   "metadata": {},
   "source": [
    "### Solution #2"
   ]
  },
  {
   "cell_type": "code",
   "execution_count": 2,
   "metadata": {},
   "outputs": [
    {
     "name": "stdout",
     "output_type": "stream",
     "text": [
      "Example:\n",
      "[[1, 2, 3], [4, 5, 6]]\n",
      "Coding complete? Click 'Check' to earn cool rewards!\n"
     ]
    }
   ],
   "source": [
    "def split_list(items:list) -> list:\n",
    "    half = (len(items) + 1) // 2\n",
    "    return [items[:half], items[half:]]\n",
    "\n",
    "if __name__ == '__main__':\n",
    "    print(\"Example:\")\n",
    "    print(split_list([1, 2, 3, 4, 5, 6]))\n",
    "\n",
    "    # These \"asserts\" are used for self-checking and not for an auto-testing\n",
    "    assert split_list([1, 2, 3, 4, 5, 6]) == [[1, 2, 3], [4, 5, 6]]\n",
    "    assert split_list([1, 2, 3]) == [[1, 2], [3]]\n",
    "    assert split_list([1, 2, 3, 4, 5]) == [[1, 2, 3], [4, 5]]\n",
    "    assert split_list([1]) == [[1], []]\n",
    "    assert split_list([]) == [[], []]\n",
    "    print(\"Coding complete? Click 'Check' to earn cool rewards!\")"
   ]
  },
  {
   "cell_type": "markdown",
   "metadata": {},
   "source": [
    "## All the same\n",
    "\n",
    "In this mission you should check if all elements in the given list are equal.\n",
    "\n",
    "**Input:** List.\n",
    "\n",
    "**Output:** Bool.\n",
    "\n",
    "**Example:**\n",
    "\n",
    "```\n",
    "all_the_same([1, 1, 1]) == True\n",
    "all_the_same([1, 2, 1]) == False\n",
    "all_the_same(['a', 'a', 'a']) == True\n",
    "all_the_same([]) == True\n",
    "```\n",
    "The idea for this mission was found on Python Tricks series by Dan Bader\n",
    "\n",
    "**Precondition:** all elements of the input list are hashable"
   ]
  },
  {
   "cell_type": "markdown",
   "metadata": {},
   "source": [
    "### Solution #1 "
   ]
  },
  {
   "cell_type": "code",
   "execution_count": 18,
   "metadata": {},
   "outputs": [
    {
     "name": "stdout",
     "output_type": "stream",
     "text": [
      "Example:\n",
      "True\n",
      "Coding complete? Click 'Check' to earn cool rewards!\n"
     ]
    }
   ],
   "source": [
    "def all_the_same(items:list) -> bool:\n",
    "    return len(set(items)) <= 1\n",
    "\n",
    "if __name__ == '__main__':\n",
    "    print(\"Example:\")\n",
    "    print(all_the_same([1, 1, 1]))\n",
    "    \n",
    "    # These \"asserts\" are used for self-checking and not for an auto-testing\n",
    "    assert all_the_same([1, 1, 1]) == True\n",
    "    assert all_the_same([1, 2, 1]) == False\n",
    "    assert all_the_same(['a', 'a', 'a']) == True\n",
    "    assert all_the_same([]) == True\n",
    "    assert all_the_same([1]) == True\n",
    "    print(\"Coding complete? Click 'Check' to earn cool rewards!\")\n",
    "    \n",
    "    "
   ]
  },
  {
   "cell_type": "markdown",
   "metadata": {},
   "source": [
    "### Solution #2"
   ]
  },
  {
   "cell_type": "code",
   "execution_count": 42,
   "metadata": {},
   "outputs": [
    {
     "name": "stdout",
     "output_type": "stream",
     "text": [
      "Example:\n",
      "True\n",
      "Coding complete? Click 'Check' to earn cool rewards!\n"
     ]
    }
   ],
   "source": [
    "def all_the_same(items:list) -> bool:\n",
    "    return items[1:] == items[:-1]\n",
    "\n",
    "if __name__ == '__main__':\n",
    "    print(\"Example:\")\n",
    "    print(all_the_same([1, 1, 1]))\n",
    "    \n",
    "    # These \"asserts\" are used for self-checking and not for an auto-testing\n",
    "    assert all_the_same([1, 1, 1]) == True\n",
    "    assert all_the_same([1, 2, 1]) == False\n",
    "    assert all_the_same(['a', 'a', 'a']) == True\n",
    "    assert all_the_same([]) == True\n",
    "    assert all_the_same([1]) == True\n",
    "    print(\"Coding complete? Click 'Check' to earn cool rewards!\")"
   ]
  },
  {
   "cell_type": "markdown",
   "metadata": {},
   "source": [
    "### Solution #3"
   ]
  },
  {
   "cell_type": "code",
   "execution_count": 67,
   "metadata": {},
   "outputs": [
    {
     "name": "stdout",
     "output_type": "stream",
     "text": [
      "Example:\n",
      "True\n",
      "Coding complete? Click 'Check' to earn cool rewards!\n"
     ]
    }
   ],
   "source": [
    "def all_the_same(items:list) -> bool:\n",
    "    el = iter(items)\n",
    "    first = next(el, None)\n",
    "    return all([item == first for item in items])\n",
    "    \n",
    "if __name__ == '__main__':\n",
    "    print(\"Example:\")\n",
    "    print(all_the_same([1, 1, 1]))\n",
    "    \n",
    "    # These \"asserts\" are used for self-checking and not for an auto-testing\n",
    "    assert all_the_same([1, 1, 1]) == True\n",
    "    assert all_the_same([1, 2, 1]) == False\n",
    "    assert all_the_same(['a', 'a', 'a']) == True\n",
    "    assert all_the_same([]) == True\n",
    "    assert all_the_same([1]) == True\n",
    "    print(\"Coding complete? Click 'Check' to earn cool rewards!\")"
   ]
  },
  {
   "cell_type": "markdown",
   "metadata": {},
   "source": [
    "## Date and Time Converter\n",
    "\n",
    "Computer date and time format consists only of numbers, for example: 21.05.2018 16:30\n",
    "Humans prefer to see something like this: 21 May 2018 year, 16 hours 30 minutes\n",
    "Your task is simple - convert the input date and time from computer format into a \"human\" format.\n",
    "\n",
    "\n",
    "**Input:** Date and time as a string\n",
    "\n",
    "**Output:** The same date and time, but in a more readable format\n",
    "\n",
    "**Example:**\n",
    "\n",
    "```\n",
    "date_time(\"01.01.2000 00:00\") == \"1 January 2000 year 0 hours 0 minutes\"\n",
    "date_time(\"19.09.2999 01:59\") == \"19 September 2999 year 1 hour 59 minutes\"\n",
    "date_time(\"21.10.1999 18:01\") == \"21 October 1999 year 18 hours 1 minute\"\n",
    "# NB: words \"hour\" and \"minute\" are used only when time is 01:mm (1 hour) or hh:01 (1 minute).\n",
    "# In other cases it should be used \"hours\" and \"minutes\".\n",
    "```\n",
    "\n",
    "**How it is used:** To improve the understanding between computers and humans.\n",
    "\n",
    "**Precondition:**\n",
    "* 0 < date <= 31\n",
    "* 0 < month <= 12\n",
    "* 0 < year <= 3000\n",
    "* 0 < hours < 24\n",
    "* 0 < minutes < 60"
   ]
  },
  {
   "cell_type": "markdown",
   "metadata": {},
   "source": [
    "### Solution #1"
   ]
  },
  {
   "cell_type": "code",
   "execution_count": 115,
   "metadata": {},
   "outputs": [
    {
     "name": "stdout",
     "output_type": "stream",
     "text": [
      "Example:\n",
      "1 January 2000 year 0 hours 0 minutes\n",
      "Coding complete? Click 'Check' to earn cool rewards!\n"
     ]
    }
   ],
   "source": [
    "def date_time(time):\n",
    "    time = time.split()\n",
    "    days, months, years = time[0].split('.')\n",
    "    hours, minutes = time[1].split(':')\n",
    "    days = days.lstrip('0') if days.lstrip('0') != '' else days[0]\n",
    "    hours = hours.lstrip('0') if hours.lstrip('0') != '' else hours[0]\n",
    "    minutes = minutes.lstrip('0')if minutes.lstrip('0') != '' else minutes[0]\n",
    "    \n",
    "    name_month = {'01': 'January',\n",
    "                  '02': 'February',\n",
    "                  '03': 'March',\n",
    "                  '04': 'April',\n",
    "                  '05': 'May',\n",
    "                  '06': 'June',\n",
    "                  '07': 'July',\n",
    "                  '08': 'August',\n",
    "                  '09': 'September',\n",
    "                  '10': 'October',\n",
    "                  '11': 'November',\n",
    "                  '12': 'December'}\n",
    "\n",
    "    hours_t = 'hour' if hours == '01' else 'hours'\n",
    "    minutes_t = 'minute' if minutes == '01' else 'minutes'\n",
    "    \n",
    "    return (f'{days} {name_month[months]} {years} year {hours} {hours_t} {minutes} {minutes_t}')\n",
    "\n",
    "if __name__ == '__main__':\n",
    "    print(\"Example:\")\n",
    "    print(date_time('01.01.2000 00:00'))\n",
    "\n",
    "    #These \"asserts\" using only for self-checking and not necessary for auto-testing\n",
    "    assert date_time(\"01.01.2000 00:00\") == \"1 January 2000 year 0 hours 0 minutes\", \"Millenium\"\n",
    "    assert date_time(\"09.05.1945 06:30\") == \"9 May 1945 year 6 hours 30 minutes\", \"Victory\"\n",
    "    assert date_time(\"20.11.1990 03:55\") == \"20 November 1990 year 3 hours 55 minutes\", \"Somebody was born\"\n",
    "    print(\"Coding complete? Click 'Check' to earn cool rewards!\")"
   ]
  },
  {
   "cell_type": "markdown",
   "metadata": {},
   "source": [
    "### Solution #2"
   ]
  },
  {
   "cell_type": "code",
   "execution_count": null,
   "metadata": {},
   "outputs": [],
   "source": []
  },
  {
   "cell_type": "markdown",
   "metadata": {},
   "source": [
    "## Morse Decoder\n",
    "\n",
    "Your task is to decrypt the secret message using the Morse code.\n",
    "The message will consist of words with 3 spaces between them and 1 space between each letter of each word.\n",
    "If the decrypted text starts with a letter then you'll have to print this letter in uppercase.\n",
    "\n",
    "\n",
    "**Input:** The secret message.\n",
    "\n",
    "**Output:** The decrypted text.\n",
    "\n",
    "**Example:**\n",
    "\n",
    "```\n",
    "morse_decoder(\"... --- -- .   - . -..- -\") == \"Some text\"\n",
    "morse_decoder(\"..--- ----- .---- ---..\") == \"2018\"\n",
    "morse_decoder(\".. -   .-- .- ...   .-   --. --- --- -..   -.. .- -.--\") == \"It was a good day\"\n",
    "```\n",
    "\n",
    "**How it is used:** For cryptography and spy work.\n",
    "\n",
    "**Precondition:**\n",
    "0 < len(message) < 100\n",
    "The message will consists of numbers and English letters only."
   ]
  },
  {
   "cell_type": "markdown",
   "metadata": {},
   "source": [
    "### Solution #1"
   ]
  },
  {
   "cell_type": "code",
   "execution_count": 228,
   "metadata": {},
   "outputs": [
    {
     "name": "stdout",
     "output_type": "stream",
     "text": [
      "Example:\n",
      "Sos\n",
      "Coding complete? Click 'Check' to earn cool rewards!\n"
     ]
    }
   ],
   "source": [
    "CODE = {'A': '.-',     'B': '-...',   'C': '-.-.', \n",
    "        'D': '-..',    'E': '.',      'F': '..-.',\n",
    "        'G': '--.',    'H': '....',   'I': '..',\n",
    "        'J': '.---',   'K': '-.-',    'L': '.-..',\n",
    "        'M': '--',     'N': '-.',     'O': '---',\n",
    "        'P': '.--.',   'Q': '--.-',   'R': '.-.',\n",
    "        'S': '...',    'T': '-',      'U': '..-',\n",
    "        'V': '...-',   'W': '.--',    'X': '-..-',\n",
    "        'Y': '-.--',   'Z': '--..',\n",
    "\n",
    "        '0': '-----',  '1': '.----',  '2': '..---',\n",
    "        '3': '...--',  '4': '....-',  '5': '.....',\n",
    "        '6': '-....',  '7': '--...',  '8': '---..',\n",
    "        '9': '----.' \n",
    "        }\n",
    "\n",
    "REVERSE_CODE = {value.lower(): key.lower() for key, value in CODE.items()}\n",
    "\n",
    "def morse_decoder(text:list) -> str:\n",
    "    answer = []\n",
    "    for words in text.split('   '):\n",
    "        answer.append(''.join([REVERSE_CODE.get(i) for i in words.split()]))\n",
    "    result = ' '.join(answer)\n",
    "    return result.capitalize()\n",
    "\n",
    "if __name__ == '__main__':\n",
    "    print(\"Example:\")\n",
    "    print(morse_decoder('... --- ...'))\n",
    "\n",
    "    #These \"asserts\" using only for self-checking and not necessary for auto-testing\n",
    "    assert morse_decoder(\"... --- -- .   - . -..- -\") == \"Some text\"\n",
    "    assert morse_decoder(\"..--- ----- .---- ---..\") == \"2018\"\n",
    "    assert morse_decoder(\".. -   .-- .- ...   .-   --. --- --- -..   -.. .- -.--\") == \"It was a good day\"\n",
    "    print(\"Coding complete? Click 'Check' to earn cool rewards!\")"
   ]
  },
  {
   "cell_type": "markdown",
   "metadata": {},
   "source": [
    "### Solution #2\n"
   ]
  },
  {
   "cell_type": "code",
   "execution_count": 246,
   "metadata": {},
   "outputs": [
    {
     "name": "stdout",
     "output_type": "stream",
     "text": [
      "Example:\n",
      "Sos\n",
      "Coding complete? Click 'Check' to earn cool rewards!\n"
     ]
    }
   ],
   "source": [
    "MORSE = {'.-':    'a', '-...':  'b', '-.-.':  'c',\n",
    "         '-..':   'd', '.':     'e', '..-.':  'f',\n",
    "         '--.':   'g', '....':  'h', '..':    'i',\n",
    "         '.---':  'j', '-.-':   'k', '.-..':  'l',\n",
    "         '--':    'm', '-.':    'n', '---':   'o',\n",
    "         '.--.':  'p', '--.-':  'q', '.-.':   'r',\n",
    "         '...':   's', '-':     't', '..-':   'u',\n",
    "         '...-':  'v', '.--':   'w', '-..-':  'x',\n",
    "         '-.--':  'y', '--..':  'z', '-----': '0',\n",
    "         '.----': '1', '..---': '2', '...--': '3',\n",
    "         '....-': '4', '.....': '5', '-....': '6',\n",
    "         '--...': '7', '---..': '8', '----.': '9'\n",
    "        }\n",
    "\n",
    "def morse_decoder(text:list) -> str:\n",
    "    return ''.join([MORSE[letter] if letter in MORSE else ' ' for letter in text.split(' ')]).replace('  ', ' ').capitalize()\n",
    "\n",
    "if __name__ == '__main__':\n",
    "    print(\"Example:\")\n",
    "    print(morse_decoder('... --- ...'))\n",
    "\n",
    "    #These \"asserts\" using only for self-checking and not necessary for auto-testing\n",
    "    assert morse_decoder(\"... --- -- .   - . -..- -\") == \"Some text\"\n",
    "    assert morse_decoder(\"..--- ----- .---- ---..\") == \"2018\"\n",
    "    assert morse_decoder(\".. -   .-- .- ...   .-   --. --- --- -..   -.. .- -.--\") == \"It was a good day\"\n",
    "    print(\"Coding complete? Click 'Check' to earn cool rewards!\")"
   ]
  }
 ],
 "metadata": {
  "kernelspec": {
   "display_name": "Python 3",
   "language": "python",
   "name": "python3"
  },
  "language_info": {
   "codemirror_mode": {
    "name": "ipython",
    "version": 3
   },
   "file_extension": ".py",
   "mimetype": "text/x-python",
   "name": "python",
   "nbconvert_exporter": "python",
   "pygments_lexer": "ipython3",
   "version": "3.7.6"
  }
 },
 "nbformat": 4,
 "nbformat_minor": 2
}

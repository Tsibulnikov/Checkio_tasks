{
 "cells": [
  {
   "cell_type": "markdown",
   "metadata": {},
   "source": [
    "## Split List\n",
    "\n",
    "You have to split a given array into two arrays. If it has an odd amount of elements, then the first array should have more elements. If it has no elements, then two empty arrays should be returned.\n",
    "\n",
    "\n",
    "**Input:** Array.\n",
    "\n",
    "**Output:** Array or two arrays.\n",
    "\n",
    "**Example:**\n",
    "\n",
    "```\n",
    "split_list([1, 2, 3, 4, 5, 6]) == [[1, 2, 3], [4, 5, 6]]\n",
    "split_list([1, 2, 3]) == [[1, 2], [3]]\n",
    "```"
   ]
  },
  {
   "cell_type": "markdown",
   "metadata": {},
   "source": [
    "### Solution #1"
   ]
  },
  {
   "cell_type": "code",
   "execution_count": 23,
   "metadata": {},
   "outputs": [
    {
     "name": "stdout",
     "output_type": "stream",
     "text": [
      "Example:\n",
      "[[1, 2, 3], [4, 5, 6]]\n",
      "[[1, 2], [3]]\n"
     ]
    }
   ],
   "source": [
    "def split_list(lst:list) -> list:\n",
    "    empty = []\n",
    "    l = len(lst)\n",
    "    half = int(l/2)\n",
    "    if (l > 0) and (l % 2 == 0):\n",
    "        empty.append(lst[:half])\n",
    "        empty.append(lst[half:])\n",
    "    elif (l > 0 ) and (l % 2 != 0):\n",
    "        empty.append(lst[:half+1])\n",
    "        empty.append(lst[half+1:])\n",
    "    return empty\n",
    "\n",
    "if __name__ == '__main__':\n",
    "    print('Example:')\n",
    "    print(split_list([1, 2, 3, 4, 5, 6]))\n",
    "    print(split_list([1, 2, 3]))"
   ]
  },
  {
   "cell_type": "code",
   "execution_count": null,
   "metadata": {},
   "outputs": [],
   "source": []
  }
 ],
 "metadata": {
  "kernelspec": {
   "display_name": "Python 3",
   "language": "python",
   "name": "python3"
  },
  "language_info": {
   "codemirror_mode": {
    "name": "ipython",
    "version": 3
   },
   "file_extension": ".py",
   "mimetype": "text/x-python",
   "name": "python",
   "nbconvert_exporter": "python",
   "pygments_lexer": "ipython3",
   "version": "3.7.4"
  }
 },
 "nbformat": 4,
 "nbformat_minor": 2
}

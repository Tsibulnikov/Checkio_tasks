{
 "cells": [
  {
   "cell_type": "markdown",
   "metadata": {},
   "source": [
    "## Beginning Zeros\n",
    "\n",
    "*You have a string that consist only of digits. You need to find how many zero digits (\"0\") are at the beginning of the given string.*\n",
    "\n",
    "**Input:** A string, that consist of digits.\n",
    "\n",
    "**Output:** An Int.\n",
    "\n",
    "**Example:**\n",
    "```\n",
    "beginning_zeros('100') == 0\n",
    "beginning_zeros('001') == 2\n",
    "beginning_zeros('100100') == 0\n",
    "beginning_zeros('001001') == 2\n",
    "beginning_zeros('012345679') == 1\n",
    "beginning_zeros('0000') == 4\n",
    "```\n"
   ]
  },
  {
   "cell_type": "markdown",
   "metadata": {},
   "source": [
    "### Soultion #1"
   ]
  },
  {
   "cell_type": "code",
   "execution_count": 3,
   "metadata": {},
   "outputs": [],
   "source": [
    "def beginning_zeros(string):\n",
    "    cnt = 0\n",
    "    for i in string:\n",
    "        if int(i) == 0:\n",
    "            cnt += 1\n",
    "        else:\n",
    "            return cnt\n",
    "    return cnt"
   ]
  },
  {
   "cell_type": "code",
   "execution_count": 7,
   "metadata": {},
   "outputs": [
    {
     "name": "stdout",
     "output_type": "stream",
     "text": [
      "Example:\n",
      "0\n"
     ]
    }
   ],
   "source": [
    "if __name__ == '__main__':\n",
    "    print('Example:')\n",
    "    print(beginning_zeros('100'))\n",
    "    \n",
    "assert beginning_zeros('100') == 0\n",
    "assert beginning_zeros('001') == 2\n",
    "assert beginning_zeros('100100') == 0\n",
    "assert beginning_zeros('001001') == 2\n",
    "assert beginning_zeros('012345679') == 1\n",
    "assert beginning_zeros('0000') == 4"
   ]
  },
  {
   "cell_type": "markdown",
   "metadata": {},
   "source": [
    "### Soultion #2"
   ]
  },
  {
   "cell_type": "code",
   "execution_count": 19,
   "metadata": {},
   "outputs": [
    {
     "name": "stdout",
     "output_type": "stream",
     "text": [
      "Example:\n",
      "0\n"
     ]
    }
   ],
   "source": [
    "def beginning_zeros(string):\n",
    "    return len(string) - len(string.lstrip('0'))\n",
    "\n",
    "if __name__ == '__main__':\n",
    "    print('Example:')\n",
    "    print(beginning_zeros('100'))\n",
    "    \n",
    "assert beginning_zeros('100') == 0\n",
    "assert beginning_zeros('001') == 2\n",
    "assert beginning_zeros('100100') == 0\n",
    "assert beginning_zeros('001001') == 2\n",
    "assert beginning_zeros('012345679') == 1\n",
    "assert beginning_zeros('0000') == 4"
   ]
  },
  {
   "cell_type": "markdown",
   "metadata": {},
   "source": [
    "## Nearest Value\n",
    "\n",
    "Find the nearest value to the given one.\n",
    "\n",
    "You are given a list of values as set form and a value for which you need to find the nearest one.\n",
    "\n",
    "For example, we have the following set of numbers: 4, 7, 10, 11, 12, 17, and we need to find the nearest value to the number 9. If we sort this set in the ascending order, then to the left of number 9 will be number 7 and to the right - will be number 10. But 10 is closer than 7, which means that the correct answer is 10.\n",
    "\n",
    "A few clarifications:\n",
    "* If 2 numbers are at the same distance, you need to choose the smallest one;\n",
    "* The set of numbers is always non-empty, i.e. the size is >=1;\n",
    "* The given value can be in this set, which means that it’s the answer;\n",
    "* The set can contain both positive and negative numbers, but they are always integers;\n",
    "* The set isn’t sorted and consists of unique numbers.\n",
    "\n",
    "**Input:** A string, that consist of digits.\n",
    "\n",
    "**Output:** An Int.\n",
    "\n",
    "**Example:**\n",
    "```\n",
    "nearest_value({4, 7, 10, 11, 12, 17}, 9) == 10\n",
    "nearest_value({4, 7, 10, 11, 12, 17}, 8) == 7\n",
    "```"
   ]
  },
  {
   "cell_type": "markdown",
   "metadata": {},
   "source": []
  },
  {
   "cell_type": "code",
   "execution_count": 3,
   "metadata": {},
   "outputs": [
    {
     "name": "stdout",
     "output_type": "stream",
     "text": [
      "Example:\n",
      "10\n",
      "Coding complete? Click 'Check' to earn cool rewards!\n"
     ]
    }
   ],
   "source": [
    "def nearest_value(values:set, one:int) -> int:\n",
    "    return min(values, key= lambda n: (abs(n - one), n))\n",
    "\n",
    "if __name__ == '__main__':\n",
    "    print('Example:')\n",
    "    print(nearest_value({4, 7, 10, 11, 12, 17}, 9))\n",
    "    \n",
    "# These \"asserts\" are used for self-checking and not for an auto-testing\n",
    "    assert nearest_value({4, 7, 10, 11, 12, 17}, 9) == 10\n",
    "    assert nearest_value({4, 7, 10, 11, 12, 17}, 8) == 7\n",
    "    assert nearest_value({4, 8, 10, 11, 12, 17}, 9) == 8\n",
    "    assert nearest_value({4, 9, 10, 11, 12, 17}, 9) == 9\n",
    "    assert nearest_value({4, 7, 10, 11, 12, 17}, 0) == 4\n",
    "    assert nearest_value({4, 7, 10, 11, 12, 17}, 100) == 17\n",
    "    assert nearest_value({5, 10, 8, 12, 89, 100}, 7) == 8\n",
    "    assert nearest_value({-1, 2, 3}, 0) == -1\n",
    "    print(\"Coding complete? Click 'Check' to earn cool rewards!\")"
   ]
  },
  {
   "cell_type": "code",
   "execution_count": null,
   "metadata": {},
   "outputs": [],
   "source": []
  }
 ],
 "metadata": {
  "kernelspec": {
   "display_name": "Python 3",
   "language": "python",
   "name": "python3"
  },
  "language_info": {
   "codemirror_mode": {
    "name": "ipython",
    "version": 3
   },
   "file_extension": ".py",
   "mimetype": "text/x-python",
   "name": "python",
   "nbconvert_exporter": "python",
   "pygments_lexer": "ipython3",
   "version": "3.7.4"
  }
 },
 "nbformat": 4,
 "nbformat_minor": 2
}

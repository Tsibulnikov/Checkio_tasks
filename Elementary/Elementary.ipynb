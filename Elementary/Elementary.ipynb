{
 "cells": [
  {
   "cell_type": "markdown",
   "metadata": {},
   "source": [
    "## Beginning Zeros\n",
    "\n",
    "*You have a string that consist only of digits. You need to find how many zero digits (\"0\") are at the beginning of the given string.*\n",
    "\n",
    "**Input:** A string, that consist of digits.\n",
    "\n",
    "**Output:** An Int.\n",
    "\n",
    "**Example:**\n",
    "```\n",
    "beginning_zeros('100') == 0\n",
    "beginning_zeros('001') == 2\n",
    "beginning_zeros('100100') == 0\n",
    "beginning_zeros('001001') == 2\n",
    "beginning_zeros('012345679') == 1\n",
    "beginning_zeros('0000') == 4\n",
    "```\n"
   ]
  },
  {
   "cell_type": "markdown",
   "metadata": {},
   "source": [
    "### Soultion #1"
   ]
  },
  {
   "cell_type": "code",
   "execution_count": 3,
   "metadata": {},
   "outputs": [],
   "source": [
    "def beginning_zeros(string):\n",
    "    cnt = 0\n",
    "    for i in string:\n",
    "        if int(i) == 0:\n",
    "            cnt += 1\n",
    "        else:\n",
    "            return cnt\n",
    "    return cnt"
   ]
  },
  {
   "cell_type": "code",
   "execution_count": 7,
   "metadata": {},
   "outputs": [
    {
     "name": "stdout",
     "output_type": "stream",
     "text": [
      "Example:\n",
      "0\n"
     ]
    }
   ],
   "source": [
    "if __name__ == '__main__':\n",
    "    print('Example:')\n",
    "    print(beginning_zeros('100'))\n",
    "    \n",
    "    assert beginning_zeros('100') == 0\n",
    "    assert beginning_zeros('001') == 2\n",
    "    assert beginning_zeros('100100') == 0\n",
    "    assert beginning_zeros('001001') == 2\n",
    "    assert beginning_zeros('012345679') == 1\n",
    "    assert beginning_zeros('0000') == 4"
   ]
  },
  {
   "cell_type": "markdown",
   "metadata": {},
   "source": [
    "### Soultion #2"
   ]
  },
  {
   "cell_type": "code",
   "execution_count": 19,
   "metadata": {},
   "outputs": [
    {
     "name": "stdout",
     "output_type": "stream",
     "text": [
      "Example:\n",
      "0\n"
     ]
    }
   ],
   "source": [
    "def beginning_zeros(string):\n",
    "    return len(string) - len(string.lstrip('0'))\n",
    "\n",
    "if __name__ == '__main__':\n",
    "    print('Example:')\n",
    "    print(beginning_zeros('100'))\n",
    "    \n",
    "    assert beginning_zeros('100') == 0\n",
    "    assert beginning_zeros('001') == 2\n",
    "    assert beginning_zeros('100100') == 0\n",
    "    assert beginning_zeros('001001') == 2\n",
    "    assert beginning_zeros('012345679') == 1\n",
    "    assert beginning_zeros('0000') == 4"
   ]
  },
  {
   "cell_type": "markdown",
   "metadata": {},
   "source": [
    "## Nearest Value\n",
    "\n",
    "Find the nearest value to the given one.\n",
    "\n",
    "You are given a list of values as set form and a value for which you need to find the nearest one.\n",
    "\n",
    "For example, we have the following set of numbers: 4, 7, 10, 11, 12, 17, and we need to find the nearest value to the number 9. If we sort this set in the ascending order, then to the left of number 9 will be number 7 and to the right - will be number 10. But 10 is closer than 7, which means that the correct answer is 10.\n",
    "\n",
    "A few clarifications:\n",
    "* If 2 numbers are at the same distance, you need to choose the smallest one;\n",
    "* The set of numbers is always non-empty, i.e. the size is >=1;\n",
    "* The given value can be in this set, which means that it’s the answer;\n",
    "* The set can contain both positive and negative numbers, but they are always integers;\n",
    "* The set isn’t sorted and consists of unique numbers.\n",
    "\n",
    "**Input:** A string, that consist of digits.\n",
    "\n",
    "**Output:** An Int.\n",
    "\n",
    "**Example:**\n",
    "```\n",
    "nearest_value({4, 7, 10, 11, 12, 17}, 9) == 10\n",
    "nearest_value({4, 7, 10, 11, 12, 17}, 8) == 7\n",
    "```"
   ]
  },
  {
   "cell_type": "markdown",
   "metadata": {},
   "source": [
    "### Soulution #1"
   ]
  },
  {
   "cell_type": "code",
   "execution_count": 5,
   "metadata": {},
   "outputs": [
    {
     "name": "stdout",
     "output_type": "stream",
     "text": [
      "Example:\n",
      "10\n",
      "Coding complete? Click 'Check' to earn cool rewards!\n"
     ]
    }
   ],
   "source": [
    "def nearest_value(values:set, one:int) -> int:\n",
    "    lst = sorted(list(values))\n",
    "    dif = abs(lst[0] - one)\n",
    "    m = lst[0]\n",
    "    # print('initial m is:', m)\n",
    "    for number in lst:\n",
    "        if abs(number - one) < dif:\n",
    "            dif = abs(number - one)\n",
    "            m = number\n",
    "    return m\n",
    "\n",
    "\n",
    "if __name__ == '__main__':\n",
    "    print(\"Example:\")\n",
    "    print(nearest_value({4, 7, 10, 11, 12, 17}, 9))\n",
    "\n",
    "    # These \"asserts\" are used for self-checking and not for an auto-testing\n",
    "    assert nearest_value({4, 7, 10, 11, 12, 17}, 9) == 10\n",
    "    assert nearest_value({4, 7, 10, 11, 12, 17}, 8) == 7\n",
    "    assert nearest_value({4, 8, 10, 11, 12, 17}, 9) == 8\n",
    "    assert nearest_value({4, 9, 10, 11, 12, 17}, 9) == 9\n",
    "    assert nearest_value({4, 7, 10, 11, 12, 17}, 0) == 4\n",
    "    assert nearest_value({4, 7, 10, 11, 12, 17}, 100) == 17\n",
    "    assert nearest_value({5, 10, 8, 12, 89, 100}, 7) == 8\n",
    "    assert nearest_value({-1, 2, 3}, 0) == -1\n",
    "    print(\"Coding complete? Click 'Check' to earn cool rewards!\")"
   ]
  },
  {
   "cell_type": "markdown",
   "metadata": {},
   "source": [
    "### Soulution #2"
   ]
  },
  {
   "cell_type": "code",
   "execution_count": 3,
   "metadata": {},
   "outputs": [
    {
     "name": "stdout",
     "output_type": "stream",
     "text": [
      "Example:\n",
      "10\n",
      "Coding complete? Click 'Check' to earn cool rewards!\n"
     ]
    }
   ],
   "source": [
    "def nearest_value(values:set, one:int) -> int:\n",
    "    return min(values, key= lambda n: (abs(n - one), n))\n",
    "\n",
    "if __name__ == '__main__':\n",
    "    print('Example:')\n",
    "    print(nearest_value({4, 7, 10, 11, 12, 17}, 9))\n",
    "    \n",
    "# These \"asserts\" are used for self-checking and not for an auto-testing\n",
    "    assert nearest_value({4, 7, 10, 11, 12, 17}, 9) == 10\n",
    "    assert nearest_value({4, 7, 10, 11, 12, 17}, 8) == 7\n",
    "    assert nearest_value({4, 8, 10, 11, 12, 17}, 9) == 8\n",
    "    assert nearest_value({4, 9, 10, 11, 12, 17}, 9) == 9\n",
    "    assert nearest_value({4, 7, 10, 11, 12, 17}, 0) == 4\n",
    "    assert nearest_value({4, 7, 10, 11, 12, 17}, 100) == 17\n",
    "    assert nearest_value({5, 10, 8, 12, 89, 100}, 7) == 8\n",
    "    assert nearest_value({-1, 2, 3}, 0) == -1\n",
    "    print(\"Coding complete? Click 'Check' to earn cool rewards!\")"
   ]
  },
  {
   "cell_type": "markdown",
   "metadata": {},
   "source": [
    "### Between Markers (simplified)\n",
    "\n",
    "You are given a string and two markers (the initial one and final). You have to find a substring enclosed between these two markers. But there are a few important conditions.\n",
    "\n",
    "This is a simplified version of the Between Markers mission.\n",
    "\n",
    "* The initial and final markers are always different.\n",
    "* The initial and final markers are always 1 char size.\n",
    "* The initial and final markers always exist in a string and go one after another.\n",
    "\n",
    "**Input:** Three arguments. All of them are strings. The second and third arguments are the initial and final markers.\n",
    "\n",
    "**Output:** A string.\n",
    "\n",
    "**Example:**\n",
    "\n",
    "`between_markers('What is >apple<', '>', '<') == 'apple'`\n",
    "\n",
    "**How it is used:** For text parsing.\n",
    "\n",
    "**Precondition:** There can't be more than one final and one initial markers."
   ]
  },
  {
   "cell_type": "markdown",
   "metadata": {},
   "source": [
    "### Soulution #1"
   ]
  },
  {
   "cell_type": "code",
   "execution_count": 15,
   "metadata": {},
   "outputs": [
    {
     "name": "stdout",
     "output_type": "stream",
     "text": [
      "Example:\n",
      "apple\n",
      "Wow, you are doing pretty good. Time to check it!\n"
     ]
    }
   ],
   "source": [
    "def between_markers(string:str, marker1:str, marker2:str) -> str:\n",
    "    start = string.find(marker1) + 1\n",
    "    end = string.find(marker2)\n",
    "    return string[start:end]\n",
    "\n",
    "if __name__ == '__main__':\n",
    "    print('Example:')\n",
    "    print(between_markers('What is >apple<', '>', '<'))\n",
    "    \n",
    "    # These \"asserts\" are used for self-checking and not for testing\n",
    "    assert between_markers('What is >apple<', '>', '<') == \"apple\"\n",
    "    assert between_markers('What is [apple]', '[', ']') == \"apple\"\n",
    "    assert between_markers('What is ><', '>', '<') == \"\"\n",
    "    assert between_markers('>apple<', '>', '<') == \"apple\"\n",
    "    print('Wow, you are doing pretty good. Time to check it!')"
   ]
  },
  {
   "cell_type": "markdown",
   "metadata": {},
   "source": [
    "### Solution #2"
   ]
  },
  {
   "cell_type": "code",
   "execution_count": 22,
   "metadata": {},
   "outputs": [
    {
     "name": "stdout",
     "output_type": "stream",
     "text": [
      "Example:\n",
      "apple\n",
      "Wow, you are doing pretty good. Time to check it!\n"
     ]
    }
   ],
   "source": [
    "def between_markers(string:str, marker1:str, marker2:str) -> str:\n",
    "    return string.split(marker1)[-1].split(marker2)[0]\n",
    "    \n",
    "if __name__ == '__main__':\n",
    "    print('Example:')\n",
    "    print(between_markers('What is >apple<', '>', '<'))\n",
    "\n",
    "    # These \"asserts\" are used for self-checking and not for testing\n",
    "    assert between_markers('What is >apple<', '>', '<') == \"apple\"\n",
    "    assert between_markers('What is [apple]', '[', ']') == \"apple\"\n",
    "    assert between_markers('What is ><', '>', '<') == \"\"\n",
    "    assert between_markers('>apple<', '>', '<') == \"apple\"\n",
    "    print('Wow, you are doing pretty good. Time to check it!')"
   ]
  },
  {
   "cell_type": "code",
   "execution_count": 23,
   "metadata": {},
   "outputs": [
    {
     "data": {
      "text/plain": [
       "'apple'"
      ]
     },
     "execution_count": 23,
     "metadata": {},
     "output_type": "execute_result"
    }
   ],
   "source": [
    "# In depth example\n",
    "'What is >apple<'.split('>')[-1].split('<')[0]"
   ]
  },
  {
   "cell_type": "markdown",
   "metadata": {},
   "source": [
    "## Correct Sentence\n",
    "\n",
    "For the input of your function, you will be given one sentence. You have to return a corrected version, that starts with a capital letter and ends with a period (dot).\n",
    "\n",
    "Pay attention to the fact that not all of the fixes are necessary. If a sentence already ends with a period (dot), then adding another one will be a mistake.\n",
    "\n",
    "**Input:** A string.\n",
    "\n",
    "**Output:** A string.\n",
    "\n",
    "**Example:**\n",
    "```\n",
    "correct_sentence(\"greetings, friends\") == \"Greetings, friends.\"\n",
    "correct_sentence(\"Greetings, friends\") == \"Greetings, friends.\"\n",
    "correct_sentence(\"Greetings, friends.\") == \"Greetings, friends.\"`\n",
    "```\n",
    "**Precondition:** No leading and trailing spaces, text contains only spaces, a-z A-Z , and ."
   ]
  },
  {
   "cell_type": "markdown",
   "metadata": {},
   "source": [
    "### Solution #1"
   ]
  },
  {
   "cell_type": "code",
   "execution_count": 29,
   "metadata": {},
   "outputs": [
    {
     "name": "stdout",
     "output_type": "stream",
     "text": [
      "Example:\n",
      "Greetings, friends.\n",
      "Coding complete? Click 'Check' to earn cool rewards!\n"
     ]
    }
   ],
   "source": [
    "def correct_sentence(text:str) -> str:\n",
    "    text = text.strip('.')\n",
    "    return text[0].upper() + text[1:] +'.'\n",
    "\n",
    "if __name__ == '__main__':\n",
    "    print('Example:')\n",
    "    print(correct_sentence(\"greetings, friends\"))\n",
    "    \n",
    "    # These \"asserts\" are used for self-checking and not for an auto-testing\n",
    "    assert correct_sentence(\"greetings, friends\") == \"Greetings, friends.\"\n",
    "    assert correct_sentence(\"Greetings, friends\") == \"Greetings, friends.\"\n",
    "    assert correct_sentence(\"Greetings, friends.\") == \"Greetings, friends.\"\n",
    "    assert correct_sentence(\"hi\") == \"Hi.\"\n",
    "    assert correct_sentence(\"welcome to New York\") == \"Welcome to New York.\"\n",
    "    \n",
    "    print(\"Coding complete? Click 'Check' to earn cool rewards!\")"
   ]
  },
  {
   "cell_type": "markdown",
   "metadata": {},
   "source": [
    "### Is Even\n",
    "\n",
    "Check if the given number is even or not. Your function should return True if the number is even, and False if the number is odd.\n",
    "\n",
    "**Input:** An int.\n",
    "\n",
    "**Output:** A bool.\n",
    "\n",
    "**Example:**\n",
    "```\n",
    "is_even(2) == True\n",
    "is_even(5) == False\n",
    "is_even(0) == True\n",
    "```\n",
    "\n",
    "**How it’s used:** (math is used everywhere)\n",
    "\n",
    "**Precondition:** both given ints should be between -1000 and 1000"
   ]
  },
  {
   "cell_type": "markdown",
   "metadata": {},
   "source": [
    "### Soulution #1"
   ]
  },
  {
   "cell_type": "code",
   "execution_count": 32,
   "metadata": {},
   "outputs": [
    {
     "name": "stdout",
     "output_type": "stream",
     "text": [
      "Example:\n",
      "True\n",
      "Coding complete? Click 'Check' to earn cool rewards!\n"
     ]
    }
   ],
   "source": [
    "def is_even(number:int) -> bool:\n",
    "    return number%2 == 0\n",
    "\n",
    "if __name__ == '__main__':\n",
    "    print('Example:')\n",
    "    print(is_even(2) == True)\n",
    "    \n",
    "    assert is_even(2) == True\n",
    "    assert is_even(5) == False\n",
    "    assert is_even(0) == True\n",
    "    print(\"Coding complete? Click 'Check' to earn cool rewards!\")    "
   ]
  },
  {
   "cell_type": "markdown",
   "metadata": {},
   "source": [
    "### Solution #2"
   ]
  },
  {
   "cell_type": "code",
   "execution_count": 48,
   "metadata": {},
   "outputs": [
    {
     "name": "stdout",
     "output_type": "stream",
     "text": [
      "Example:\n",
      "True\n",
      "Coding complete? Click 'Check' to earn cool rewards!\n"
     ]
    }
   ],
   "source": [
    "def is_even(number:int) -> bool:\n",
    "    return number & 1 == 0 # unmber bitwise & 1 gives {0 - odd, 1 - even}\n",
    "\n",
    "if __name__ == '__main__':\n",
    "    print('Example:')\n",
    "    print(is_even(2) == True)\n",
    "    \n",
    "    assert is_even(2) == True\n",
    "    assert is_even(5) == False\n",
    "    assert is_even(0) == True\n",
    "    print(\"Coding complete? Click 'Check' to earn cool rewards!\")    "
   ]
  },
  {
   "cell_type": "code",
   "execution_count": null,
   "metadata": {},
   "outputs": [],
   "source": []
  }
 ],
 "metadata": {
  "kernelspec": {
   "display_name": "Python 3",
   "language": "python",
   "name": "python3"
  },
  "language_info": {
   "codemirror_mode": {
    "name": "ipython",
    "version": 3
   },
   "file_extension": ".py",
   "mimetype": "text/x-python",
   "name": "python",
   "nbconvert_exporter": "python",
   "pygments_lexer": "ipython3",
   "version": "3.7.6"
  }
 },
 "nbformat": 4,
 "nbformat_minor": 2
}

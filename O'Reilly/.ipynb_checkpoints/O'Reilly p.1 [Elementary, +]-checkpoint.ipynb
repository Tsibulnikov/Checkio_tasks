{
 "cells": [
  {
   "cell_type": "markdown",
   "metadata": {},
   "source": [
    "## Replace Last\n",
    "\n",
    "In a given list the last element should become the first one. An empty list or list with only one element should stay the same\n",
    "\n",
    "\n",
    "**Input:** List.\n",
    "\n",
    "**Output:** Iterable.\n",
    "\n",
    "**Example:**\n",
    "```\n",
    "replace_last([2, 3, 4, 1]) == [1, 2, 3, 4]\n",
    "replace_last([1, 2, 3, 4]) == [4, 1, 2, 3]\n",
    "replace_last([1]) == [1]\n",
    "replace_last([]) == []\n",
    "```"
   ]
  },
  {
   "cell_type": "markdown",
   "metadata": {},
   "source": [
    "### Solution #1 "
   ]
  },
  {
   "cell_type": "code",
   "execution_count": 17,
   "metadata": {},
   "outputs": [
    {
     "name": "stdout",
     "output_type": "stream",
     "text": [
      "Example:\n",
      "[1, 2, 3, 4]\n",
      "Coding complete? Click 'Check' to earn cool rewards!\n"
     ]
    }
   ],
   "source": [
    "def replace_last(items:list) -> list:\n",
    "    if len(items) > 0:\n",
    "        items.insert(0, items[-1])\n",
    "        return items[:-1]\n",
    "    return []\n",
    "\n",
    "if __name__ == '__main__':\n",
    "    print(\"Example:\")\n",
    "    print(replace_last([2, 3, 4, 1]))\n",
    "\n",
    "    # These \"asserts\" are used for self-checking and not for an auto-testing\n",
    "    assert replace_last([2, 3, 4, 1]) == [1, 2, 3, 4]\n",
    "    assert replace_last([1, 2, 3, 4]) == [4, 1, 2, 3]\n",
    "    assert replace_last([1]) == [1]\n",
    "    assert replace_last([]) == []\n",
    "    print(\"Coding complete? Click 'Check' to earn cool rewards!\")"
   ]
  },
  {
   "cell_type": "markdown",
   "metadata": {},
   "source": [
    "### Solution #2"
   ]
  },
  {
   "cell_type": "code",
   "execution_count": 18,
   "metadata": {},
   "outputs": [
    {
     "name": "stdout",
     "output_type": "stream",
     "text": [
      "Example:\n",
      "[1, 2, 3, 4]\n",
      "Coding complete? Click 'Check' to earn cool rewards!\n"
     ]
    }
   ],
   "source": [
    "def replace_last(items:list) -> list:\n",
    "    return items[-1:] + items[:-1]\n",
    "\n",
    "if __name__ == '__main__':\n",
    "    print(\"Example:\")\n",
    "    print(replace_last([2, 3, 4, 1]))\n",
    "\n",
    "    # These \"asserts\" are used for self-checking and not for an auto-testing\n",
    "    assert replace_last([2, 3, 4, 1]) == [1, 2, 3, 4]\n",
    "    assert replace_last([1, 2, 3, 4]) == [4, 1, 2, 3]\n",
    "    assert replace_last([1]) == [1]\n",
    "    assert replace_last([]) == []\n",
    "    print(\"Coding complete? Click 'Check' to earn cool rewards!\")"
   ]
  },
  {
   "cell_type": "markdown",
   "metadata": {},
   "source": [
    "## Index Power\n",
    "\n",
    "You are given an array with positive numbers and a number N. You should find the N-th power of the element in the array with the index N. If N is outside of the array, then return -1. Don't forget that the first element has the index 0.\n",
    "\n",
    "Let's look at a few examples:\n",
    "- array = [1, 2, 3, 4] and N = 2, then the result is 32 == 9;\n",
    "- array = [1, 2, 3] and N = 3, but N is outside of the array, so the result is -1.\n",
    "\n",
    "Input: Two arguments. An array as a list of integers and a number as a integer.\n",
    "\n",
    "**Output:** The result as an integer.\n",
    "\n",
    "**Example:**\n",
    "\n",
    "```\n",
    "index_power([1, 2, 3, 4], 2) == 9\n",
    "index_power([1, 3, 10, 100], 3) == 1000000\n",
    "index_power([0, 1], 0) == 1\n",
    "index_power([1, 2], 3) == -1\n",
    "```\n",
    "**How it is used:** This mission teaches you how to use basic arrays and indexes when combined with simple mathematics.\n",
    "\n",
    "**Precondition:** 0 < len(array) ≤ 10\n",
    "0 ≤ N\n",
    "all(0 ≤ x ≤ 100 for x in array)"
   ]
  },
  {
   "cell_type": "markdown",
   "metadata": {},
   "source": [
    "### Solution #1"
   ]
  },
  {
   "cell_type": "code",
   "execution_count": 28,
   "metadata": {},
   "outputs": [
    {
     "name": "stdout",
     "output_type": "stream",
     "text": [
      "Example:\n",
      "9\n",
      "Coding complete? Click 'Check' to review your tests and earn cool rewards!\n"
     ]
    }
   ],
   "source": [
    "def index_power(items:list, ipower:int) -> int:\n",
    "    return items[ipower] ** ipower if ipower <= len(items)-1 else -1\n",
    "\n",
    "if __name__ == '__main__':\n",
    "    print('Example:')\n",
    "    print(index_power([1, 2, 3, 4], 2))\n",
    "    \n",
    "    #These \"asserts\" using only for self-checking and not necessary for auto-testing\n",
    "    assert index_power([1, 2, 3, 4], 2) == 9, \"Square\"\n",
    "    assert index_power([1, 3, 10, 100], 3) == 1000000, \"Cube\"\n",
    "    assert index_power([0, 1], 0) == 1, \"Zero power\"\n",
    "    assert index_power([1, 2], 3) == -1, \"IndexError\"\n",
    "    print(\"Coding complete? Click 'Check' to review your tests and earn cool rewards!\")"
   ]
  },
  {
   "cell_type": "markdown",
   "metadata": {},
   "source": [
    "### Solution #2"
   ]
  },
  {
   "cell_type": "code",
   "execution_count": 29,
   "metadata": {},
   "outputs": [
    {
     "name": "stdout",
     "output_type": "stream",
     "text": [
      "Example:\n",
      "9\n",
      "Coding complete? Click 'Check' to review your tests and earn cool rewards!\n"
     ]
    }
   ],
   "source": [
    "def index_power(array:list, n:int) -> int:\n",
    "    try:\n",
    "        return array[n] ** n\n",
    "    except IndexError:\n",
    "        return -1\n",
    "    \n",
    "if __name__ == '__main__':\n",
    "    print('Example:')\n",
    "    print(index_power([1, 2, 3, 4], 2))\n",
    "    \n",
    "    #These \"asserts\" using only for self-checking and not necessary for auto-testing\n",
    "    assert index_power([1, 2, 3, 4], 2) == 9, \"Square\"\n",
    "    assert index_power([1, 3, 10, 100], 3) == 1000000, \"Cube\"\n",
    "    assert index_power([0, 1], 0) == 1, \"Zero power\"\n",
    "    assert index_power([1, 2], 3) == -1, \"IndexError\"\n",
    "    print(\"Coding complete? Click 'Check' to review your tests and earn cool rewards!\")"
   ]
  },
  {
   "cell_type": "markdown",
   "metadata": {},
   "source": [
    "## Xs and Os Referee\n",
    "\n",
    "Tic-Tac-Toe, sometimes also known as Xs and Os, is a game for two players (X and O) who take turns marking the spaces in a 3×3 grid. The player who succeeds in placing three respective marks in a horizontal, vertical, or diagonal rows (NW-SE and NE-SW) wins the game.\n",
    "\n",
    "But we will not be playing this game. You will be the referee for this games results. You are given a result of a game and you must determine if the game ends in a win or a draw as well as who will be the winner. Make sure to return \"X\" if the X-player wins and \"O\" if the O-player wins. If the game is a draw, return \"D\".\n",
    "\n",
    "A game's result is presented as a list of strings, where \"X\" and \"O\" are players' marks and \".\" is the empty cell.\n",
    "\n",
    "**Input:** A game result as a list of strings (unicode).\n",
    "\n",
    "**Output:** \"X\", \"O\" or \"D\" as a string.\n",
    "\n",
    "**Example:**\n",
    "```\n",
    "\n",
    "checkio([\n",
    "    \"X.O\",\n",
    "    \"XX.\",\n",
    "    \"XOO\"]) == \"X\"\n",
    "checkio([\n",
    "    \"OO.\",\n",
    "    \"XOX\",\n",
    "    \"XOX\"]) == \"O\"\n",
    "checkio([\n",
    "    \"OOX\",\n",
    "    \"XXO\",\n",
    "    \"OXX\"]) == \"D\"\n",
    "```\n",
    "**How it is used:** The concepts in this task will help you when iterating data types. They can also be used in game algorithms, allowing you to know how to check results.\n",
    "\n",
    "Precondition:\n",
    "There is either one winner or a draw.\n",
    "len(game_result) == 3\n",
    "all(len(row) == 3 for row in game_result)"
   ]
  },
  {
   "cell_type": "markdown",
   "metadata": {},
   "source": [
    "### Solution #1"
   ]
  },
  {
   "cell_type": "code",
   "execution_count": 101,
   "metadata": {},
   "outputs": [
    {
     "name": "stdout",
     "output_type": "stream",
     "text": [
      "Example:\n",
      "X\n",
      "Coding complete? Click 'Check' to review your tests and earn cool rewards!\n"
     ]
    }
   ],
   "source": [
    "import numpy as np\n",
    "\n",
    "def checkio(table:list) -> str:\n",
    "    matrix = []\n",
    "    for i in table:\n",
    "        matrix.append(' '.join(i).split())\n",
    "    matrix = np.array(matrix)\n",
    "    # monitor rows\n",
    "    for i in range(3):\n",
    "        if list(matrix[i,:]).count('X') == 3:\n",
    "            return 'X'\n",
    "        elif list(matrix[i,:]).count('O') == 3:\n",
    "            return 'O'\n",
    "    # monitor columns\n",
    "    for i in range(3):\n",
    "        if list(matrix[:,i]).count('X') == 3:\n",
    "            return 'X'\n",
    "        elif list(matrix[:,i]).count('O') == 3:\n",
    "            return 'O'\n",
    "    for i in range(2):\n",
    "        matrix = np.fliplr(matrix)\n",
    "        if list(matrix.diagonal()).count('X') == 3:\n",
    "            return 'X'\n",
    "        elif list(matrix.diagonal()).count('O') == 3:\n",
    "            return 'O'\n",
    "    return 'D'\n",
    "\n",
    "if __name__ == '__main__':\n",
    "    print(\"Example:\")\n",
    "    print(checkio([\"X.O\",\n",
    "                   \"XX.\",\n",
    "                   \"XOO\"]))\n",
    "\n",
    "    #These \"asserts\" using only for self-checking and not necessary for auto-testing\n",
    "    assert checkio([\n",
    "        \"X.O\",\n",
    "        \"XX.\",\n",
    "        \"XOO\"]) == \"X\", \"Xs wins\"\n",
    "    assert checkio([\n",
    "        \"OO.\",\n",
    "        \"XOX\",\n",
    "        \"XOX\"]) == \"O\", \"Os wins\"\n",
    "    assert checkio([\n",
    "        \"OOX\",\n",
    "        \"XXO\",\n",
    "        \"OXX\"]) == \"D\", \"Draw\"\n",
    "    assert checkio([\n",
    "        \"O.X\",\n",
    "        \"XX.\",\n",
    "        \"XOO\"]) == \"X\", \"Xs wins again\"\n",
    "    print(\"Coding complete? Click 'Check' to review your tests and earn cool rewards!\")"
   ]
  },
  {
   "cell_type": "markdown",
   "metadata": {},
   "source": [
    "### Solution #2"
   ]
  },
  {
   "cell_type": "code",
   "execution_count": 132,
   "metadata": {},
   "outputs": [
    {
     "name": "stdout",
     "output_type": "stream",
     "text": [
      "Example:\n",
      "[('X', '.', 'O'), ('X', 'X', '.'), ('X', 'O', 'O'), ('X', 'X', 'X'), ('.', 'X', 'O'), ('O', '.', 'O'), ('X', 'X', 'O'), ('O', 'X', 'X')]\n",
      "X\n",
      "[('X', '.', 'O'), ('X', 'X', '.'), ('X', 'O', 'O'), ('X', 'X', 'X'), ('.', 'X', 'O'), ('O', '.', 'O'), ('X', 'X', 'O'), ('O', 'X', 'X')]\n",
      "[('O', 'O', '.'), ('X', 'O', 'X'), ('X', 'O', 'X'), ('O', 'X', 'X'), ('O', 'O', 'O'), ('.', 'X', 'X'), ('O', 'O', 'X'), ('.', 'O', 'X')]\n",
      "[('O', 'O', 'X'), ('X', 'X', 'O'), ('O', 'X', 'X'), ('O', 'X', 'O'), ('O', 'X', 'X'), ('X', 'O', 'X'), ('O', 'X', 'X'), ('X', 'X', 'O')]\n",
      "[('O', '.', 'X'), ('X', 'X', '.'), ('X', 'O', 'O'), ('O', 'X', 'X'), ('.', 'X', 'O'), ('X', '.', 'O'), ('O', 'X', 'O'), ('X', 'X', 'X')]\n",
      "Coding complete? Click 'Check' to review your tests and earn cool rewards!\n"
     ]
    }
   ],
   "source": [
    "def checkio(table:list) -> str:\n",
    "    game = list(map(tuple, table)) # get tuple of rows\n",
    "    game += tuple(zip(*game)) # get tuple of columns , unpack list with * to zip columns\n",
    "    game += tuple([game[i][i] for i in (0, 1, 2)]),\n",
    "    game += tuple([game[i][2-i] for i in (0, 1, 2)]),\n",
    "    print(game)\n",
    "    if ('X','X', 'X') in game:\n",
    "        return 'X'\n",
    "    elif ('O','O','O') in game:\n",
    "        return 'O'\n",
    "    return 'D'\n",
    "\n",
    "if __name__ == '__main__':\n",
    "    print(\"Example:\")\n",
    "    print(checkio([\"X.O\",\n",
    "                   \"XX.\",\n",
    "                   \"XOO\"]))\n",
    "\n",
    "    #These \"asserts\" using only for self-checking and not necessary for auto-testing\n",
    "    assert checkio([\n",
    "        \"X.O\",\n",
    "        \"XX.\",\n",
    "        \"XOO\"]) == \"X\", \"Xs wins\"\n",
    "    assert checkio([\n",
    "        \"OO.\",\n",
    "        \"XOX\",\n",
    "        \"XOX\"]) == \"O\", \"Os wins\"\n",
    "    assert checkio([\n",
    "        \"OOX\",\n",
    "        \"XXO\",\n",
    "        \"OXX\"]) == \"D\", \"Draw\"\n",
    "    assert checkio([\n",
    "        \"O.X\",\n",
    "        \"XX.\",\n",
    "        \"XOO\"]) == \"X\", \"Xs wins again\"\n",
    "    print(\"Coding complete? Click 'Check' to review your tests and earn cool rewards!\")"
   ]
  },
  {
   "cell_type": "code",
   "execution_count": null,
   "metadata": {},
   "outputs": [],
   "source": []
  }
 ],
 "metadata": {
  "kernelspec": {
   "display_name": "Python 3",
   "language": "python",
   "name": "python3"
  },
  "language_info": {
   "codemirror_mode": {
    "name": "ipython",
    "version": 3
   },
   "file_extension": ".py",
   "mimetype": "text/x-python",
   "name": "python",
   "nbconvert_exporter": "python",
   "pygments_lexer": "ipython3",
   "version": "3.7.4"
  }
 },
 "nbformat": 4,
 "nbformat_minor": 2
}

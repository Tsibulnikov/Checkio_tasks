{
 "cells": [
  {
   "cell_type": "markdown",
   "metadata": {},
   "source": [
    "## Replace Last\n",
    "\n",
    "In a given list the last element should become the first one. An empty list or list with only one element should stay the same\n",
    "\n",
    "\n",
    "**Input:** List.\n",
    "\n",
    "**Output:** Iterable.\n",
    "\n",
    "**Example:**\n",
    "```\n",
    "replace_last([2, 3, 4, 1]) == [1, 2, 3, 4]\n",
    "replace_last([1, 2, 3, 4]) == [4, 1, 2, 3]\n",
    "replace_last([1]) == [1]\n",
    "replace_last([]) == []\n",
    "```"
   ]
  },
  {
   "cell_type": "markdown",
   "metadata": {},
   "source": [
    "### Solution #1 "
   ]
  },
  {
   "cell_type": "code",
   "execution_count": 17,
   "metadata": {},
   "outputs": [
    {
     "name": "stdout",
     "output_type": "stream",
     "text": [
      "Example:\n",
      "[1, 2, 3, 4]\n",
      "Coding complete? Click 'Check' to earn cool rewards!\n"
     ]
    }
   ],
   "source": [
    "def replace_last(items:list) -> list:\n",
    "    if len(items) > 0:\n",
    "        items.insert(0, items[-1])\n",
    "        return items[:-1]\n",
    "    return []\n",
    "\n",
    "if __name__ == '__main__':\n",
    "    print(\"Example:\")\n",
    "    print(replace_last([2, 3, 4, 1]))\n",
    "\n",
    "    # These \"asserts\" are used for self-checking and not for an auto-testing\n",
    "    assert replace_last([2, 3, 4, 1]) == [1, 2, 3, 4]\n",
    "    assert replace_last([1, 2, 3, 4]) == [4, 1, 2, 3]\n",
    "    assert replace_last([1]) == [1]\n",
    "    assert replace_last([]) == []\n",
    "    print(\"Coding complete? Click 'Check' to earn cool rewards!\")"
   ]
  },
  {
   "cell_type": "markdown",
   "metadata": {},
   "source": [
    "### Solution #2"
   ]
  },
  {
   "cell_type": "code",
   "execution_count": 18,
   "metadata": {},
   "outputs": [
    {
     "name": "stdout",
     "output_type": "stream",
     "text": [
      "Example:\n",
      "[1, 2, 3, 4]\n",
      "Coding complete? Click 'Check' to earn cool rewards!\n"
     ]
    }
   ],
   "source": [
    "def replace_last(items:list) -> list:\n",
    "    return items[-1:] + items[:-1]\n",
    "\n",
    "if __name__ == '__main__':\n",
    "    print(\"Example:\")\n",
    "    print(replace_last([2, 3, 4, 1]))\n",
    "\n",
    "    # These \"asserts\" are used for self-checking and not for an auto-testing\n",
    "    assert replace_last([2, 3, 4, 1]) == [1, 2, 3, 4]\n",
    "    assert replace_last([1, 2, 3, 4]) == [4, 1, 2, 3]\n",
    "    assert replace_last([1]) == [1]\n",
    "    assert replace_last([]) == []\n",
    "    print(\"Coding complete? Click 'Check' to earn cool rewards!\")"
   ]
  },
  {
   "cell_type": "markdown",
   "metadata": {},
   "source": [
    "## Index Power\n",
    "\n",
    "You are given an array with positive numbers and a number N. You should find the N-th power of the element in the array with the index N. If N is outside of the array, then return -1. Don't forget that the first element has the index 0.\n",
    "\n",
    "Let's look at a few examples:\n",
    "- array = [1, 2, 3, 4] and N = 2, then the result is 32 == 9;\n",
    "- array = [1, 2, 3] and N = 3, but N is outside of the array, so the result is -1.\n",
    "\n",
    "Input: Two arguments. An array as a list of integers and a number as a integer.\n",
    "\n",
    "**Output:** The result as an integer.\n",
    "\n",
    "**Example:**\n",
    "\n",
    "```\n",
    "index_power([1, 2, 3, 4], 2) == 9\n",
    "index_power([1, 3, 10, 100], 3) == 1000000\n",
    "index_power([0, 1], 0) == 1\n",
    "index_power([1, 2], 3) == -1\n",
    "```\n",
    "**How it is used:** This mission teaches you how to use basic arrays and indexes when combined with simple mathematics.\n",
    "\n",
    "**Precondition:** 0 < len(array) ≤ 10\n",
    "0 ≤ N\n",
    "all(0 ≤ x ≤ 100 for x in array)"
   ]
  },
  {
   "cell_type": "markdown",
   "metadata": {},
   "source": [
    "### Solution #1"
   ]
  },
  {
   "cell_type": "code",
   "execution_count": 28,
   "metadata": {},
   "outputs": [
    {
     "name": "stdout",
     "output_type": "stream",
     "text": [
      "Example:\n",
      "9\n",
      "Coding complete? Click 'Check' to review your tests and earn cool rewards!\n"
     ]
    }
   ],
   "source": [
    "def index_power(items:list, ipower:int) -> int:\n",
    "    return items[ipower] ** ipower if ipower <= len(items)-1 else -1\n",
    "\n",
    "if __name__ == '__main__':\n",
    "    print('Example:')\n",
    "    print(index_power([1, 2, 3, 4], 2))\n",
    "    \n",
    "    #These \"asserts\" using only for self-checking and not necessary for auto-testing\n",
    "    assert index_power([1, 2, 3, 4], 2) == 9, \"Square\"\n",
    "    assert index_power([1, 3, 10, 100], 3) == 1000000, \"Cube\"\n",
    "    assert index_power([0, 1], 0) == 1, \"Zero power\"\n",
    "    assert index_power([1, 2], 3) == -1, \"IndexError\"\n",
    "    print(\"Coding complete? Click 'Check' to review your tests and earn cool rewards!\")"
   ]
  },
  {
   "cell_type": "markdown",
   "metadata": {},
   "source": [
    "### Solution #2"
   ]
  },
  {
   "cell_type": "code",
   "execution_count": 29,
   "metadata": {},
   "outputs": [
    {
     "name": "stdout",
     "output_type": "stream",
     "text": [
      "Example:\n",
      "9\n",
      "Coding complete? Click 'Check' to review your tests and earn cool rewards!\n"
     ]
    }
   ],
   "source": [
    "def index_power(array:list, n:int) -> int:\n",
    "    try:\n",
    "        return array[n] ** n\n",
    "    except IndexError:\n",
    "        return -1\n",
    "    \n",
    "if __name__ == '__main__':\n",
    "    print('Example:')\n",
    "    print(index_power([1, 2, 3, 4], 2))\n",
    "    \n",
    "    #These \"asserts\" using only for self-checking and not necessary for auto-testing\n",
    "    assert index_power([1, 2, 3, 4], 2) == 9, \"Square\"\n",
    "    assert index_power([1, 3, 10, 100], 3) == 1000000, \"Cube\"\n",
    "    assert index_power([0, 1], 0) == 1, \"Zero power\"\n",
    "    assert index_power([1, 2], 3) == -1, \"IndexError\"\n",
    "    print(\"Coding complete? Click 'Check' to review your tests and earn cool rewards!\")"
   ]
  },
  {
   "cell_type": "markdown",
   "metadata": {},
   "source": [
    "## Xs and Os Referee\n",
    "\n",
    "Tic-Tac-Toe, sometimes also known as Xs and Os, is a game for two players (X and O) who take turns marking the spaces in a 3×3 grid. The player who succeeds in placing three respective marks in a horizontal, vertical, or diagonal rows (NW-SE and NE-SW) wins the game.\n",
    "\n",
    "But we will not be playing this game. You will be the referee for this games results. You are given a result of a game and you must determine if the game ends in a win or a draw as well as who will be the winner. Make sure to return \"X\" if the X-player wins and \"O\" if the O-player wins. If the game is a draw, return \"D\".\n",
    "\n",
    "A game's result is presented as a list of strings, where \"X\" and \"O\" are players' marks and \".\" is the empty cell.\n",
    "\n",
    "**Input:** A game result as a list of strings (unicode).\n",
    "\n",
    "**Output:** \"X\", \"O\" or \"D\" as a string.\n",
    "\n",
    "**Example:**\n",
    "```\n",
    "\n",
    "checkio([\n",
    "    \"X.O\",\n",
    "    \"XX.\",\n",
    "    \"XOO\"]) == \"X\"\n",
    "checkio([\n",
    "    \"OO.\",\n",
    "    \"XOX\",\n",
    "    \"XOX\"]) == \"O\"\n",
    "checkio([\n",
    "    \"OOX\",\n",
    "    \"XXO\",\n",
    "    \"OXX\"]) == \"D\"\n",
    "```\n",
    "**How it is used:** The concepts in this task will help you when iterating data types. They can also be used in game algorithms, allowing you to know how to check results.\n",
    "\n",
    "Precondition:\n",
    "There is either one winner or a draw.\n",
    "len(game_result) == 3\n",
    "all(len(row) == 3 for row in game_result)"
   ]
  },
  {
   "cell_type": "markdown",
   "metadata": {},
   "source": [
    "### Solution #1"
   ]
  },
  {
   "cell_type": "code",
   "execution_count": 101,
   "metadata": {},
   "outputs": [
    {
     "name": "stdout",
     "output_type": "stream",
     "text": [
      "Example:\n",
      "X\n",
      "Coding complete? Click 'Check' to review your tests and earn cool rewards!\n"
     ]
    }
   ],
   "source": [
    "import numpy as np\n",
    "\n",
    "def checkio(table:list) -> str:\n",
    "    matrix = []\n",
    "    for i in table:\n",
    "        matrix.append(' '.join(i).split())\n",
    "    matrix = np.array(matrix)\n",
    "    # monitor rows\n",
    "    for i in range(3):\n",
    "        if list(matrix[i,:]).count('X') == 3:\n",
    "            return 'X'\n",
    "        elif list(matrix[i,:]).count('O') == 3:\n",
    "            return 'O'\n",
    "    # monitor columns\n",
    "    for i in range(3):\n",
    "        if list(matrix[:,i]).count('X') == 3:\n",
    "            return 'X'\n",
    "        elif list(matrix[:,i]).count('O') == 3:\n",
    "            return 'O'\n",
    "    for i in range(2):\n",
    "        matrix = np.fliplr(matrix)\n",
    "        if list(matrix.diagonal()).count('X') == 3:\n",
    "            return 'X'\n",
    "        elif list(matrix.diagonal()).count('O') == 3:\n",
    "            return 'O'\n",
    "    return 'D'\n",
    "\n",
    "if __name__ == '__main__':\n",
    "    print(\"Example:\")\n",
    "    print(checkio([\"X.O\",\n",
    "                   \"XX.\",\n",
    "                   \"XOO\"]))\n",
    "\n",
    "    #These \"asserts\" using only for self-checking and not necessary for auto-testing\n",
    "    assert checkio([\n",
    "        \"X.O\",\n",
    "        \"XX.\",\n",
    "        \"XOO\"]) == \"X\", \"Xs wins\"\n",
    "    assert checkio([\n",
    "        \"OO.\",\n",
    "        \"XOX\",\n",
    "        \"XOX\"]) == \"O\", \"Os wins\"\n",
    "    assert checkio([\n",
    "        \"OOX\",\n",
    "        \"XXO\",\n",
    "        \"OXX\"]) == \"D\", \"Draw\"\n",
    "    assert checkio([\n",
    "        \"O.X\",\n",
    "        \"XX.\",\n",
    "        \"XOO\"]) == \"X\", \"Xs wins again\"\n",
    "    print(\"Coding complete? Click 'Check' to review your tests and earn cool rewards!\")"
   ]
  },
  {
   "cell_type": "markdown",
   "metadata": {},
   "source": [
    "### Solution #2"
   ]
  },
  {
   "cell_type": "code",
   "execution_count": 132,
   "metadata": {},
   "outputs": [
    {
     "name": "stdout",
     "output_type": "stream",
     "text": [
      "Example:\n",
      "[('X', '.', 'O'), ('X', 'X', '.'), ('X', 'O', 'O'), ('X', 'X', 'X'), ('.', 'X', 'O'), ('O', '.', 'O'), ('X', 'X', 'O'), ('O', 'X', 'X')]\n",
      "X\n",
      "[('X', '.', 'O'), ('X', 'X', '.'), ('X', 'O', 'O'), ('X', 'X', 'X'), ('.', 'X', 'O'), ('O', '.', 'O'), ('X', 'X', 'O'), ('O', 'X', 'X')]\n",
      "[('O', 'O', '.'), ('X', 'O', 'X'), ('X', 'O', 'X'), ('O', 'X', 'X'), ('O', 'O', 'O'), ('.', 'X', 'X'), ('O', 'O', 'X'), ('.', 'O', 'X')]\n",
      "[('O', 'O', 'X'), ('X', 'X', 'O'), ('O', 'X', 'X'), ('O', 'X', 'O'), ('O', 'X', 'X'), ('X', 'O', 'X'), ('O', 'X', 'X'), ('X', 'X', 'O')]\n",
      "[('O', '.', 'X'), ('X', 'X', '.'), ('X', 'O', 'O'), ('O', 'X', 'X'), ('.', 'X', 'O'), ('X', '.', 'O'), ('O', 'X', 'O'), ('X', 'X', 'X')]\n",
      "Coding complete? Click 'Check' to review your tests and earn cool rewards!\n"
     ]
    }
   ],
   "source": [
    "def checkio(table:list) -> str:\n",
    "    game = list(map(tuple, table)) # get tuple of rows\n",
    "    game += tuple(zip(*game)) # get tuple of columns , unpack list with * to zip columns\n",
    "    game += tuple([game[i][i] for i in (0, 1, 2)]),\n",
    "    game += tuple([game[i][2-i] for i in (0, 1, 2)]),\n",
    "    print(game)\n",
    "    if ('X','X', 'X') in game:\n",
    "        return 'X'\n",
    "    elif ('O','O','O') in game:\n",
    "        return 'O'\n",
    "    return 'D'\n",
    "\n",
    "if __name__ == '__main__':\n",
    "    print(\"Example:\")\n",
    "    print(checkio([\"X.O\",\n",
    "                   \"XX.\",\n",
    "                   \"XOO\"]))\n",
    "\n",
    "    #These \"asserts\" using only for self-checking and not necessary for auto-testing\n",
    "    assert checkio([\n",
    "        \"X.O\",\n",
    "        \"XX.\",\n",
    "        \"XOO\"]) == \"X\", \"Xs wins\"\n",
    "    assert checkio([\n",
    "        \"OO.\",\n",
    "        \"XOX\",\n",
    "        \"XOX\"]) == \"O\", \"Os wins\"\n",
    "    assert checkio([\n",
    "        \"OOX\",\n",
    "        \"XXO\",\n",
    "        \"OXX\"]) == \"D\", \"Draw\"\n",
    "    assert checkio([\n",
    "        \"O.X\",\n",
    "        \"XX.\",\n",
    "        \"XOO\"]) == \"X\", \"Xs wins again\"\n",
    "    print(\"Coding complete? Click 'Check' to review your tests and earn cool rewards!\")"
   ]
  },
  {
   "cell_type": "markdown",
   "metadata": {},
   "source": [
    "## Majority\n",
    "\n",
    "We have a List of booleans. Let's check if the majority of elements are true.\n",
    "\n",
    "\n",
    "Some cases worth mentioning:\n",
    "* an empty list should return false;\n",
    "* if trues and falses have an equal amount, function should return false.\n",
    "\n",
    "**Input:** A List of booleans.\n",
    "\n",
    "**Output:** A Boolean.\n",
    "\n",
    "**Example:**\n",
    "```\n",
    "is_majority([True, True, False, True, False]) == True\n",
    "is_majority([True, True, False]) == True\n",
    "```"
   ]
  },
  {
   "cell_type": "markdown",
   "metadata": {},
   "source": [
    "### Solution #1"
   ]
  },
  {
   "cell_type": "code",
   "execution_count": 4,
   "metadata": {},
   "outputs": [
    {
     "name": "stdout",
     "output_type": "stream",
     "text": [
      "Example:\n",
      "True\n",
      "Coding complete? Click 'Check' to earn cool rewards!\n"
     ]
    }
   ],
   "source": [
    "def is_majority(lst:list) -> bool:\n",
    "    try:\n",
    "        return sum(lst)/len(lst) > 0.5\n",
    "    except ZeroDivisionError:\n",
    "        return False\n",
    "    \n",
    "if __name__ == '__main__':\n",
    "    print(\"Example:\")\n",
    "    print(is_majority([True, True, False, True, False]))\n",
    "\n",
    "    # These \"asserts\" are used for self-checking and not for an auto-testing\n",
    "    assert is_majority([True, True, False, True, False]) == True\n",
    "    assert is_majority([True, True, False]) == True\n",
    "    assert is_majority([True, True, False, False]) == False\n",
    "    assert is_majority([True, True, False, False, False]) == False\n",
    "    assert is_majority([False]) == False\n",
    "    assert is_majority([True]) == True\n",
    "    assert is_majority([]) == False\n",
    "    print(\"Coding complete? Click 'Check' to earn cool rewards!\")"
   ]
  },
  {
   "cell_type": "markdown",
   "metadata": {},
   "source": [
    "### Solution #2"
   ]
  },
  {
   "cell_type": "code",
   "execution_count": 5,
   "metadata": {},
   "outputs": [
    {
     "name": "stdout",
     "output_type": "stream",
     "text": [
      "Example:\n",
      "True\n",
      "Coding complete? Click 'Check' to earn cool rewards!\n"
     ]
    }
   ],
   "source": [
    "def is_majority(lst:list) -> bool:\n",
    "    return lst.count(True) > lst.count(False)\n",
    "\n",
    "if __name__ == '__main__':\n",
    "    print(\"Example:\")\n",
    "    print(is_majority([True, True, False, True, False]))\n",
    "\n",
    "    # These \"asserts\" are used for self-checking and not for an auto-testing\n",
    "    assert is_majority([True, True, False, True, False]) == True\n",
    "    assert is_majority([True, True, False]) == True\n",
    "    assert is_majority([True, True, False, False]) == False\n",
    "    assert is_majority([True, True, False, False, False]) == False\n",
    "    assert is_majority([False]) == False\n",
    "    assert is_majority([True]) == True\n",
    "    assert is_majority([]) == False\n",
    "    print(\"Coding complete? Click 'Check' to earn cool rewards!\")"
   ]
  },
  {
   "cell_type": "markdown",
   "metadata": {},
   "source": [
    "### Solution #3"
   ]
  },
  {
   "cell_type": "code",
   "execution_count": null,
   "metadata": {},
   "outputs": [],
   "source": []
  },
  {
   "cell_type": "markdown",
   "metadata": {},
   "source": [
    "## Light Bulb Intro\n",
    "\n",
    "With this mission I want to start a series of missions with light bulbs. They will help you understand the concept of processes and evaluation of the processes’ performance. Instead of light bulbs, in real life, there may be equipment, the effectiveness of which must be calculated, or workers who go to work, and their wages must be calculated.\n",
    "\n",
    "The first mission is quite simple. There is a light bulb, which by default is off, and a button, by pressing which the light bulb switches its state. This means that if the light bulb is off and the button is pressed, the light turns on, and if you press it again, it turns off.\n",
    "\n",
    "(Everything is easy. I am sure that if you’ve got to this mission, you should understand, but just in case I’m adding a visual.)\n",
    "\n",
    "example\n",
    "\n",
    "The function input is an array of datetime objects - this is the date and time of pressing the button. Your task is to determine how long the light bulb has been turned on.\n",
    "\n",
    "**Input:** A list of datetime objects\n",
    "\n",
    "**Output:** A number of seconds as an integer.\n",
    "\n",
    "**Example:**\n",
    "```\n",
    "sum_light([\n",
    "    datetime(2015, 1, 12, 10, 0 , 0),\n",
    "    datetime(2015, 1, 12, 10, 10 , 10),\n",
    "]) == 610\n",
    "\n",
    "sum_light([\n",
    "    datetime(2015, 1, 12, 10, 0 , 0),\n",
    "    datetime(2015, 1, 12, 10, 10 , 10),\n",
    "    datetime(2015, 1, 12, 11, 0 , 0),\n",
    "    datetime(2015, 1, 12, 11, 10 , 10),\n",
    "]) == 1220\n",
    "\n",
    "sum_light([\n",
    "    datetime(2015, 1, 12, 10, 0 , 0),\n",
    "    datetime(2015, 1, 12, 10, 0 , 1),\n",
    "]) == 1\n",
    "```\n",
    "**Precondition:**\n",
    "\n",
    "* The array of pressing the button is always sorted in ascending order\n",
    "* The array of pressing the button has no repeated elements (which means the result should always be bigger than 0)\n",
    "* The amount of elements is always even (the light will eventually be off)\n",
    "* The minimum possible date is 1970-01-01\n",
    "* The maximum possible date is 9999-12-31"
   ]
  },
  {
   "cell_type": "markdown",
   "metadata": {},
   "source": [
    "### Solution #1"
   ]
  },
  {
   "cell_type": "code",
   "execution_count": 17,
   "metadata": {},
   "outputs": [],
   "source": [
    "from datetime import datetime, timedelta"
   ]
  },
  {
   "cell_type": "code",
   "execution_count": 94,
   "metadata": {},
   "outputs": [
    {
     "name": "stdout",
     "output_type": "stream",
     "text": [
      "Example:\n",
      "1220\n",
      "The first mission in series is completed? Click 'Check' to earn cool rewards!\n"
     ]
    }
   ],
   "source": [
    "from datetime import datetime\n",
    "import numpy as np\n",
    "\n",
    "def sum_light(lst:list) -> int:\n",
    "    times_start = np.array(lst[::2])\n",
    "    times_end = np.array(lst[1::2])\n",
    "    result = sum([i.days*24*3600 + i.seconds for i in (times_end - times_start)])\n",
    "    return result\n",
    "\n",
    "if __name__ == '__main__':\n",
    "    print(\"Example:\")\n",
    "    print(sum_light([\n",
    "        datetime(2015, 1, 12, 10, 0 , 0),\n",
    "        datetime(2015, 1, 12, 10, 10 , 10),\n",
    "        datetime(2015, 1, 12, 11, 0 , 0),\n",
    "        datetime(2015, 1, 12, 11, 10 , 10),\n",
    "    ]))\n",
    "    \n",
    "    # These \"asserts\" are used for self-checking and not for an auto-testing\n",
    "    assert sum_light([\n",
    "        datetime(2015, 1, 12, 10, 0 , 0),\n",
    "        datetime(2015, 1, 12, 10, 10 , 10),\n",
    "    ]) == 610\n",
    "\n",
    "    assert sum_light([\n",
    "        datetime(2015, 1, 12, 10, 0 , 0),\n",
    "        datetime(2015, 1, 12, 10, 10 , 10),\n",
    "        datetime(2015, 1, 12, 11, 0 , 0),\n",
    "        datetime(2015, 1, 12, 11, 10 , 10),\n",
    "    ]) == 1220\n",
    "\n",
    "    assert sum_light([\n",
    "        datetime(2015, 1, 12, 10, 0 , 0),\n",
    "        datetime(2015, 1, 12, 10, 10 , 10),\n",
    "        datetime(2015, 1, 12, 11, 0 , 0),\n",
    "        datetime(2015, 1, 12, 11, 10 , 10),\n",
    "        datetime(2015, 1, 12, 11, 10 , 10),\n",
    "        datetime(2015, 1, 12, 12, 10 , 10),\n",
    "    ]) == 4820\n",
    "\n",
    "    assert sum_light([\n",
    "        datetime(2015, 1, 12, 10, 0 , 0),\n",
    "        datetime(2015, 1, 12, 10, 0 , 1),\n",
    "    ]) == 1\n",
    "\n",
    "    assert sum_light([\n",
    "        datetime(2015, 1, 12, 10, 0 , 0),\n",
    "        datetime(2015, 1, 12, 10, 0 , 10),\n",
    "        datetime(2015, 1, 12, 11, 0 , 0),\n",
    "        datetime(2015, 1, 13, 11, 0 , 0),\n",
    "    ]) == 86410\n",
    "\n",
    "    print(\"The first mission in series is completed? Click 'Check' to earn cool rewards!\")\n",
    "    "
   ]
  },
  {
   "cell_type": "markdown",
   "metadata": {},
   "source": [
    "### Solution #2"
   ]
  },
  {
   "cell_type": "code",
   "execution_count": 183,
   "metadata": {},
   "outputs": [
    {
     "name": "stdout",
     "output_type": "stream",
     "text": [
      "Example:\n",
      "1220\n",
      "The first mission in series is completed? Click 'Check' to earn cool rewards!\n"
     ]
    }
   ],
   "source": [
    "def sum_light(lst:list) -> int:\n",
    "    i = iter(lst)\n",
    "    return round(sum((y-x).total_seconds() for x,y in zip(i,i)))\n",
    "\n",
    "if __name__ == '__main__':\n",
    "    print(\"Example:\")\n",
    "    print(sum_light([\n",
    "        datetime(2015, 1, 12, 10, 0 , 0),\n",
    "        datetime(2015, 1, 12, 10, 10 , 10),\n",
    "        datetime(2015, 1, 12, 11, 0 , 0),\n",
    "        datetime(2015, 1, 12, 11, 10 , 10),\n",
    "    ]))\n",
    "    \n",
    "    # These \"asserts\" are used for self-checking and not for an auto-testing\n",
    "    assert sum_light([\n",
    "        datetime(2015, 1, 12, 10, 0 , 0),\n",
    "        datetime(2015, 1, 12, 10, 10 , 10),\n",
    "    ]) == 610\n",
    "\n",
    "    assert sum_light([\n",
    "        datetime(2015, 1, 12, 10, 0 , 0),\n",
    "        datetime(2015, 1, 12, 10, 10 , 10),\n",
    "        datetime(2015, 1, 12, 11, 0 , 0),\n",
    "        datetime(2015, 1, 12, 11, 10 , 10),\n",
    "    ]) == 1220\n",
    "\n",
    "    assert sum_light([\n",
    "        datetime(2015, 1, 12, 10, 0 , 0),\n",
    "        datetime(2015, 1, 12, 10, 10 , 10),\n",
    "        datetime(2015, 1, 12, 11, 0 , 0),\n",
    "        datetime(2015, 1, 12, 11, 10 , 10),\n",
    "        datetime(2015, 1, 12, 11, 10 , 10),\n",
    "        datetime(2015, 1, 12, 12, 10 , 10),\n",
    "    ]) == 4820\n",
    "\n",
    "    assert sum_light([\n",
    "        datetime(2015, 1, 12, 10, 0 , 0),\n",
    "        datetime(2015, 1, 12, 10, 0 , 1),\n",
    "    ]) == 1\n",
    "\n",
    "    assert sum_light([\n",
    "        datetime(2015, 1, 12, 10, 0 , 0),\n",
    "        datetime(2015, 1, 12, 10, 0 , 10),\n",
    "        datetime(2015, 1, 12, 11, 0 , 0),\n",
    "        datetime(2015, 1, 13, 11, 0 , 0),\n",
    "    ]) == 86410\n",
    "\n",
    "    print(\"The first mission in series is completed? Click 'Check' to earn cool rewards!\")\n",
    "    "
   ]
  },
  {
   "cell_type": "markdown",
   "metadata": {},
   "source": [
    "## Remove All After\n",
    "\n",
    "Not all of the elements are important. What you need to do here is to remove all of the elements after the given one from list.\n",
    "\n",
    "\n",
    "For illustration, we have an list [1, 2, 3, 4, 5] and we need to remove all the elements that go after 3 - which is 4 and 5.\n",
    "\n",
    "We have two edge cases here: (1) if a cutting element cannot be found, then the list shouldn't be changed; (2) if the list is empty, then it should remain empty.\n",
    "\n",
    "**Input:** List and the border element.\n",
    "\n",
    "**Output:** Iterable (tuple, list, iterator ...).\n",
    "\n",
    "**Example:**\n",
    "\n",
    "```\n",
    "remove_all_after([1, 2, 3, 4, 5], 3) == [1, 2, 3]\n",
    "remove_all_after([1, 1, 2, 2, 3, 3], 2) == [1, 1, 2]\n",
    "```"
   ]
  },
  {
   "cell_type": "markdown",
   "metadata": {},
   "source": [
    "### Solution #1"
   ]
  },
  {
   "cell_type": "code",
   "execution_count": 11,
   "metadata": {},
   "outputs": [
    {
     "name": "stdout",
     "output_type": "stream",
     "text": [
      "Example:\n",
      "[1, 2, 3]\n",
      "Coding complete? Click 'Check' to earn cool rewards!\n"
     ]
    }
   ],
   "source": [
    "def remove_all_after(lst:list, number: int) -> list:\n",
    "    return lst[:lst.index(number)+1] if number in lst else lst\n",
    "\n",
    "if __name__ == '__main__':\n",
    "    print(\"Example:\")\n",
    "    print(list(remove_all_after([1, 2, 3, 4, 5], 3)))\n",
    "\n",
    "    # These \"asserts\" are used for self-checking and not for an auto-testing\n",
    "    assert list(remove_all_after([1, 2, 3, 4, 5], 3)) == [1, 2, 3]\n",
    "    assert list(remove_all_after([1, 1, 2, 2, 3, 3], 2)) == [1, 1, 2]\n",
    "    assert list(remove_all_after([1, 1, 2, 4, 2, 3, 4], 2)) == [1, 1, 2]\n",
    "    assert list(remove_all_after([1, 1, 5, 6, 7], 2)) == [1, 1, 5, 6, 7]\n",
    "    assert list(remove_all_after([], 0)) == []\n",
    "    assert list(remove_all_after([7, 7, 7, 7, 7, 7, 7, 7, 7], 7)) == [7]\n",
    "    print(\"Coding complete? Click 'Check' to earn cool rewards!\")"
   ]
  },
  {
   "cell_type": "markdown",
   "metadata": {},
   "source": [
    "### Solution #2"
   ]
  },
  {
   "cell_type": "code",
   "execution_count": 1,
   "metadata": {},
   "outputs": [
    {
     "name": "stdout",
     "output_type": "stream",
     "text": [
      "Example:\n",
      "[1, 2, 3]\n",
      "Coding complete? Click 'Check' to earn cool rewards!\n"
     ]
    }
   ],
   "source": [
    "def remove_all_after(lst: list, border: int) -> list:\n",
    "    try:\n",
    "        return lst[:lst.index(border) + 1]\n",
    "    except ValueError:\n",
    "        return lst\n",
    "    \n",
    "if __name__ == '__main__':\n",
    "    print(\"Example:\")\n",
    "    print(list(remove_all_after([1, 2, 3, 4, 5], 3)))\n",
    "\n",
    "    # These \"asserts\" are used for self-checking and not for an auto-testing\n",
    "    assert list(remove_all_after([1, 2, 3, 4, 5], 3)) == [1, 2, 3]\n",
    "    assert list(remove_all_after([1, 1, 2, 2, 3, 3], 2)) == [1, 1, 2]\n",
    "    assert list(remove_all_after([1, 1, 2, 4, 2, 3, 4], 2)) == [1, 1, 2]\n",
    "    assert list(remove_all_after([1, 1, 5, 6, 7], 2)) == [1, 1, 5, 6, 7]\n",
    "    assert list(remove_all_after([], 0)) == []\n",
    "    assert list(remove_all_after([7, 7, 7, 7, 7, 7, 7, 7, 7], 7)) == [7]\n",
    "    print(\"Coding complete? Click 'Check' to earn cool rewards!\")\n",
    "    "
   ]
  },
  {
   "cell_type": "markdown",
   "metadata": {},
   "source": [
    "## LightBulb Start Watching\n",
    "\n",
    "*This is the second mission in the lightbulb series. I will try to make each following task slightly more complex.*\n",
    "\n",
    "You have already learned how to count the amount of time a light bulb has been on, or how long a room has been lit. Now let's add one more parameter - the counting start time.\n",
    "\n",
    "This means that the light continues to turn on and off as before. But now, as a result of the function, I want not only to know how long there was light in the room, but how long the room was lit, starting from a certain moment.\n",
    "\n",
    "One more argument is added – **start_watching** , and if it’s not passed, we count as in the previous version of the program for the entire period.\n",
    "\n",
    "example\n",
    "\n",
    "**Input:** Two arguments and only the first one is required. The first one is a list of datetime objects and the second one is a datetime object.\n",
    "\n",
    "**Output:** A number of seconds as an integer.\n",
    "\n",
    "**Example:**\n",
    "```\n",
    "sum_light([\n",
    "    datetime(2015, 1, 12, 10, 0, 0),\n",
    "    datetime(2015, 1, 12, 10, 0, 10),\n",
    "],\n",
    "datetime(2015, 1, 12, 10, 0, 5)) == 5\n",
    "\n",
    "sum_light([\n",
    "    datetime(2015, 1, 12, 10, 0, 0),\n",
    "    datetime(2015, 1, 12, 10, 0, 10),\n",
    "], datetime(2015, 1, 12, 10, 0, 0)) == 10\n",
    "\n",
    "sum_light([\n",
    "    datetime(2015, 1, 12, 10, 0, 0),\n",
    "    datetime(2015, 1, 12, 10, 10, 10),\n",
    "    datetime(2015, 1, 12, 11, 0, 0),\n",
    "    datetime(2015, 1, 12, 11, 10, 10),\n",
    "], datetime(2015, 1, 12, 11, 0, 0)) == 610\n",
    "```\n",
    "**Precondition:**\n",
    "\n",
    "* The array of pressing the button is always sorted in ascending order\n",
    "* The array of pressing the button has no repeated elements\n",
    "* The amount of elements is always even (the light will eventually be off)\n",
    "* The minimum possible date is 1970-01-01\n",
    "* The maximum possible date is 9999-12-31"
   ]
  },
  {
   "cell_type": "markdown",
   "metadata": {},
   "source": [
    "### Solution #1"
   ]
  },
  {
   "cell_type": "code",
   "execution_count": 83,
   "metadata": {},
   "outputs": [
    {
     "name": "stdout",
     "output_type": "stream",
     "text": [
      "Example:\n",
      "5\n",
      "The second mission in series is done? Click 'Check' to earn cool rewards!\n"
     ]
    }
   ],
   "source": [
    "def sum_light(els:list, start_watching=None) -> int:\n",
    "    if start_watching == None:\n",
    "        i = iter(els)\n",
    "        return round(sum([(y - x).total_seconds() for x, y in zip(i, i)]))\n",
    "    else:\n",
    "        els = (list(map(lambda x: x.timestamp(), els)))\n",
    "        start_watching = start_watching.timestamp()\n",
    "        i = iter(els)\n",
    "        cnt = 0\n",
    "        for x, y in zip(i,i):\n",
    "            if start_watching <= x:\n",
    "                cnt += y - x\n",
    "            elif x < start_watching < y:\n",
    "                cnt += y - start_watching\n",
    "            elif  start_watching >= y:\n",
    "                cnt += 0\n",
    "        return round(cnt)\n",
    "    \n",
    "if __name__ == '__main__':\n",
    "    print(\"Example:\")\n",
    "    print(sum_light([\n",
    "        datetime(2015, 1, 12, 10, 0, 0),\n",
    "        datetime(2015, 1, 12, 10, 0, 10),\n",
    "    ],\n",
    "    datetime(2015, 1, 12, 10, 0, 5)))\n",
    "    \n",
    "    assert sum_light(els=[\n",
    "        datetime(2015, 1, 12, 10, 0, 0),\n",
    "        datetime(2015, 1, 12, 10, 0, 10),\n",
    "    ],\n",
    "    start_watching=datetime(2015, 1, 12, 10, 0, 5)) == 5\n",
    "    \n",
    "    assert sum_light([\n",
    "        datetime(2015, 1, 12, 10, 0, 0),\n",
    "        datetime(2015, 1, 12, 10, 0, 10),\n",
    "    ], datetime(2015, 1, 12, 10, 0, 0)) == 10\n",
    "    \n",
    "    assert sum_light([\n",
    "        datetime(2015, 1, 12, 10, 0, 0),\n",
    "        datetime(2015, 1, 12, 10, 10, 10),\n",
    "        datetime(2015, 1, 12, 11, 0, 0),\n",
    "        datetime(2015, 1, 12, 11, 10, 10),\n",
    "    ], datetime(2015, 1, 12, 11, 0, 0)) == 610\n",
    "    \n",
    "    assert sum_light([\n",
    "        datetime(2015, 1, 12, 10, 0, 0),\n",
    "        datetime(2015, 1, 12, 10, 10, 10),\n",
    "        datetime(2015, 1, 12, 11, 0, 0),\n",
    "        datetime(2015, 1, 12, 11, 10, 10),\n",
    "    ], datetime(2015, 1, 12, 11, 0, 10)) == 600\n",
    "    \n",
    "    assert sum_light([\n",
    "        datetime(2015, 1, 12, 10, 0, 0),\n",
    "        datetime(2015, 1, 12, 10, 10, 10),\n",
    "        datetime(2015, 1, 12, 11, 0, 0),\n",
    "        datetime(2015, 1, 12, 11, 10, 10),\n",
    "    ], datetime(2015, 1, 12, 10, 10, 0)) == 620\n",
    "\n",
    "    assert sum_light([\n",
    "        datetime(2015, 1, 12, 10, 0, 0),\n",
    "        datetime(2015, 1, 12, 10, 10, 10),\n",
    "        datetime(2015, 1, 12, 11, 0, 0),\n",
    "        datetime(2015, 1, 12, 11, 10, 10),\n",
    "        datetime(2015, 1, 12, 11, 10, 11),\n",
    "        datetime(2015, 1, 12, 12, 10, 11),\n",
    "    ], datetime(2015, 1, 12, 12, 10, 11)) == 0\n",
    "\n",
    "    assert sum_light([\n",
    "        datetime(2015, 1, 12, 10, 0, 0),\n",
    "        datetime(2015, 1, 12, 10, 10, 10),\n",
    "        datetime(2015, 1, 12, 11, 0, 0),\n",
    "        datetime(2015, 1, 12, 11, 10, 10),\n",
    "        datetime(2015, 1, 12, 11, 10, 11),\n",
    "        datetime(2015, 1, 12, 12, 10, 11),\n",
    "    ], datetime(2015, 1, 12, 12, 9, 11)) == 60\n",
    "    \n",
    "    print(\"The second mission in series is done? Click 'Check' to earn cool rewards!\")\n",
    "\n",
    "    "
   ]
  },
  {
   "cell_type": "markdown",
   "metadata": {},
   "source": [
    "### Solution #2"
   ]
  },
  {
   "cell_type": "code",
   "execution_count": 97,
   "metadata": {},
   "outputs": [
    {
     "name": "stdout",
     "output_type": "stream",
     "text": [
      "Example:\n",
      "5.0\n",
      "The second mission in series is done? Click 'Check' to earn cool rewards!\n"
     ]
    }
   ],
   "source": [
    "def sum_light(els:list, start_watching=None):\n",
    "    start = max(els[0], start_watching) if start_watching else els[0]\n",
    "    els = list(filter(lambda x: x > start_watching, els))\n",
    "    if len(els) % 2:\n",
    "        els = [start] + els\n",
    "    i = iter(els)\n",
    "    return sum([(y-x).total_seconds() for x, y in zip(i, i)])\n",
    "\n",
    "if __name__ == '__main__':\n",
    "    print(\"Example:\")\n",
    "    print(sum_light([\n",
    "        datetime(2015, 1, 12, 10, 0, 0),\n",
    "        datetime(2015, 1, 12, 10, 0, 10),\n",
    "    ],\n",
    "    datetime(2015, 1, 12, 10, 0, 5)))\n",
    "    \n",
    "    assert sum_light(els=[\n",
    "        datetime(2015, 1, 12, 10, 0, 0),\n",
    "        datetime(2015, 1, 12, 10, 0, 10),\n",
    "    ],\n",
    "    start_watching=datetime(2015, 1, 12, 10, 0, 5)) == 5\n",
    "    \n",
    "    assert sum_light([\n",
    "        datetime(2015, 1, 12, 10, 0, 0),\n",
    "        datetime(2015, 1, 12, 10, 0, 10),\n",
    "    ], datetime(2015, 1, 12, 10, 0, 0)) == 10\n",
    "    \n",
    "    assert sum_light([\n",
    "        datetime(2015, 1, 12, 10, 0, 0),\n",
    "        datetime(2015, 1, 12, 10, 10, 10),\n",
    "        datetime(2015, 1, 12, 11, 0, 0),\n",
    "        datetime(2015, 1, 12, 11, 10, 10),\n",
    "    ], datetime(2015, 1, 12, 11, 0, 0)) == 610\n",
    "    \n",
    "    assert sum_light([\n",
    "        datetime(2015, 1, 12, 10, 0, 0),\n",
    "        datetime(2015, 1, 12, 10, 10, 10),\n",
    "        datetime(2015, 1, 12, 11, 0, 0),\n",
    "        datetime(2015, 1, 12, 11, 10, 10),\n",
    "    ], datetime(2015, 1, 12, 11, 0, 10)) == 600\n",
    "    \n",
    "    assert sum_light([\n",
    "        datetime(2015, 1, 12, 10, 0, 0),\n",
    "        datetime(2015, 1, 12, 10, 10, 10),\n",
    "        datetime(2015, 1, 12, 11, 0, 0),\n",
    "        datetime(2015, 1, 12, 11, 10, 10),\n",
    "    ], datetime(2015, 1, 12, 10, 10, 0)) == 620\n",
    "\n",
    "    assert sum_light([\n",
    "        datetime(2015, 1, 12, 10, 0, 0),\n",
    "        datetime(2015, 1, 12, 10, 10, 10),\n",
    "        datetime(2015, 1, 12, 11, 0, 0),\n",
    "        datetime(2015, 1, 12, 11, 10, 10),\n",
    "        datetime(2015, 1, 12, 11, 10, 11),\n",
    "        datetime(2015, 1, 12, 12, 10, 11),\n",
    "    ], datetime(2015, 1, 12, 12, 10, 11)) == 0\n",
    "\n",
    "    assert sum_light([\n",
    "        datetime(2015, 1, 12, 10, 0, 0),\n",
    "        datetime(2015, 1, 12, 10, 10, 10),\n",
    "        datetime(2015, 1, 12, 11, 0, 0),\n",
    "        datetime(2015, 1, 12, 11, 10, 10),\n",
    "        datetime(2015, 1, 12, 11, 10, 11),\n",
    "        datetime(2015, 1, 12, 12, 10, 11),\n",
    "    ], datetime(2015, 1, 12, 12, 9, 11)) == 60\n",
    "    \n",
    "    print(\"The second mission in series is done? Click 'Check' to earn cool rewards!\")\n"
   ]
  },
  {
   "cell_type": "markdown",
   "metadata": {},
   "source": [
    "## Median\n",
    "\n",
    "A median is a numerical value separating the upper half of a sorted array of numbers from the lower half. In a list where there are an odd number of entities, the median is the number found in the middle of the array. If the array contains an even number of entities, then there is no single middle value, instead the median becomes the average of the two numbers found in the middle. For this mission, you are given a non-empty array of natural numbers (X). With it, you must separate the upper half of the numbers from the lower half and find the median.\n",
    "\n",
    "**Input:** An array as a list of integers.\n",
    "\n",
    "**Output:** The median as a float or an integer.\n",
    "\n",
    "**Example:**\n",
    "\n",
    "```\n",
    "checkio([1, 2, 3, 4, 5]) == 3\n",
    "checkio([3, 1, 2, 5, 3]) == 3\n",
    "checkio([1, 300, 2, 200, 1]) == 2\n",
    "checkio([3, 6, 20, 99, 10, 15]) == 12.5\n",
    "```\n",
    "\n",
    "How it is used: The median has usage for Statistics and Probability theory, it has especially significant value for skewed distribution. For example: we want to know average wealth of people from a set of data -- 100 people earn $100 in month and 10 people earn $1,000,000. If we average it out, we get $91,000. This is weird value and does nothing to show us the real picture. In this case the median would give to us more useful value and a better picture. The Article at Wikipedia.\n",
    "\n",
    "**Precondition:**\n",
    "1 < len(data) ≤ 1000\n",
    "all(0 ≤ x < 10 ** 6 for x in data)"
   ]
  },
  {
   "cell_type": "markdown",
   "metadata": {},
   "source": [
    "### Solution #1"
   ]
  },
  {
   "cell_type": "code",
   "execution_count": 12,
   "metadata": {},
   "outputs": [
    {
     "name": "stdout",
     "output_type": "stream",
     "text": [
      "Example:\n",
      "3.0\n",
      "Start the long test\n",
      "Coding complete? Click 'Check' to earn cool rewards!\n"
     ]
    }
   ],
   "source": [
    "import numpy as np\n",
    "\n",
    "def checkio(data:list) -> [int,float]:\n",
    "    return np.median(np.array(data))\n",
    "\n",
    "if __name__ == '__main__':\n",
    "    print(\"Example:\")\n",
    "    print(checkio([1, 2, 3, 4, 5]))\n",
    "\n",
    "    assert checkio([1, 2, 3, 4, 5]) == 3, \"Sorted list\"\n",
    "    assert checkio([3, 1, 2, 5, 3]) == 3, \"Not sorted list\"\n",
    "    assert checkio([1, 300, 2, 200, 1]) == 2, \"It's not an average\"\n",
    "    assert checkio([3, 6, 20, 99, 10, 15]) == 12.5, \"Even length\"\n",
    "    print(\"Start the long test\")\n",
    "    assert checkio(list(range(1000000))) == 499999.5, \"Long.\"\n",
    "    print(\"Coding complete? Click 'Check' to earn cool rewards!\")"
   ]
  },
  {
   "cell_type": "markdown",
   "metadata": {},
   "source": [
    "### Solution #2"
   ]
  },
  {
   "cell_type": "code",
   "execution_count": 14,
   "metadata": {},
   "outputs": [
    {
     "name": "stdout",
     "output_type": "stream",
     "text": [
      "Example:\n",
      "3.0\n",
      "Start the long test\n",
      "Coding complete? Click 'Check' to earn cool rewards!\n"
     ]
    }
   ],
   "source": [
    "def checkio(data:list) -> [int, float]:\n",
    "    data = sorted(data)\n",
    "    return (data[(len(data) - 1) // 2] + data[len(data) // 2]) / 2\n",
    "\n",
    "if __name__ == '__main__':\n",
    "    print(\"Example:\")\n",
    "    print(checkio([1, 2, 3, 4, 5]))\n",
    "\n",
    "    assert checkio([1, 2, 3, 4, 5]) == 3, \"Sorted list\"\n",
    "    assert checkio([3, 1, 2, 5, 3]) == 3, \"Not sorted list\"\n",
    "    assert checkio([1, 300, 2, 200, 1]) == 2, \"It's not an average\"\n",
    "    assert checkio([3, 6, 20, 99, 10, 15]) == 12.5, \"Even length\"\n",
    "    print(\"Start the long test\")\n",
    "    assert checkio(list(range(1000000))) == 499999.5, \"Long.\"\n",
    "    print(\"Coding complete? Click 'Check' to earn cool rewards!\")"
   ]
  },
  {
   "cell_type": "markdown",
   "metadata": {},
   "source": [
    "### Solution #3 \n",
    "``(New trick using [~half])``"
   ]
  },
  {
   "cell_type": "code",
   "execution_count": 35,
   "metadata": {},
   "outputs": [
    {
     "name": "stdout",
     "output_type": "stream",
     "text": [
      "Example:\n",
      "3.0\n",
      "Start the long test\n",
      "Coding complete? Click 'Check' to earn cool rewards!\n"
     ]
    }
   ],
   "source": [
    "def checkio(data: list) -> [int, float]:\n",
    "    data.sort()\n",
    "    half = len(data) // 2\n",
    "    return (data[half] + data[~half]) / 2 \n",
    "\n",
    "if __name__ == '__main__':\n",
    "    print(\"Example:\")\n",
    "    print(checkio([1, 2, 3, 4, 5]))\n",
    "\n",
    "    assert checkio([1, 2, 3, 4, 5]) == 3, \"Sorted list\"\n",
    "    assert checkio([3, 1, 2, 5, 3]) == 3, \"Not sorted list\"\n",
    "    assert checkio([1, 300, 2, 200, 1]) == 2, \"It's not an average\"\n",
    "    assert checkio([3, 6, 20, 99, 10, 15]) == 12.5, \"Even length\"\n",
    "    print(\"Start the long test\")\n",
    "    assert checkio(list(range(1000000))) == 499999.5, \"Long.\"\n",
    "    print(\"Coding complete? Click 'Check' to earn cool rewards!\")"
   ]
  }
 ],
 "metadata": {
  "kernelspec": {
   "display_name": "Python 3",
   "language": "python",
   "name": "python3"
  },
  "language_info": {
   "codemirror_mode": {
    "name": "ipython",
    "version": 3
   },
   "file_extension": ".py",
   "mimetype": "text/x-python",
   "name": "python",
   "nbconvert_exporter": "python",
   "pygments_lexer": "ipython3",
   "version": "3.7.6"
  }
 },
 "nbformat": 4,
 "nbformat_minor": 2
}
